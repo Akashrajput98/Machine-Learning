{
 "cells": [
  {
   "cell_type": "markdown",
   "id": "524b34eb-d742-4101-8b79-912dac804643",
   "metadata": {},
   "source": [
    "   # ``Employee Turnover Analytics``"
   ]
  },
  {
   "cell_type": "markdown",
   "id": "b01e263b-0688-4845-8eba-71615d271d0d",
   "metadata": {},
   "source": [
    "**Course end Project done by- Akash Chauhan**"
   ]
  },
  {
   "cell_type": "markdown",
   "id": "340101dc-6a43-424b-8007-f8d9aac56793",
   "metadata": {},
   "source": [
    "## Problem Statement:\n",
    "The HR Department at Portobello Tech aims to address the critical issue of employee turnover by leveraging an innovative app that analyzes various employee work-related factors. This app assesses key metrics such as project involvement, monthly working hours, tenure, recent promotions, and salary levels to predict potential turnover risks. By utilizing historical data on employee satisfaction and work patterns, the HR Department seeks to identify and understand trends that may influence employees' decisions to stay or leave the company. The objective is to proactively predict and mitigate employee turnover, ultimately enhancing workforce stability and organizational performance."
   ]
  },
  {
   "cell_type": "code",
   "execution_count": 1,
   "id": "2825f231-58f7-4ec2-84d2-b5751a6257d9",
   "metadata": {},
   "outputs": [],
   "source": [
    "# Importing the necessary Libraries:\n",
    "import numpy as np\n",
    "import pandas as pd\n",
    "import matplotlib.pyplot as plt\n",
    "import seaborn as sns\n",
    "%matplotlib inline\n",
    "\n",
    "import warnings\n",
    "warnings.filterwarnings('ignore')"
   ]
  },
  {
   "cell_type": "code",
   "execution_count": 2,
   "id": "995ec0be-fec8-4298-b13e-89b72364a9db",
   "metadata": {},
   "outputs": [],
   "source": [
    "df = pd.read_excel('hr_comma_sep.xlsx')"
   ]
  },
  {
   "cell_type": "code",
   "execution_count": 3,
   "id": "f0c2ebf0-cab7-4546-95e3-b5554ffb2004",
   "metadata": {},
   "outputs": [
    {
     "data": {
      "text/html": [
       "<div>\n",
       "<style scoped>\n",
       "    .dataframe tbody tr th:only-of-type {\n",
       "        vertical-align: middle;\n",
       "    }\n",
       "\n",
       "    .dataframe tbody tr th {\n",
       "        vertical-align: top;\n",
       "    }\n",
       "\n",
       "    .dataframe thead th {\n",
       "        text-align: right;\n",
       "    }\n",
       "</style>\n",
       "<table border=\"1\" class=\"dataframe\">\n",
       "  <thead>\n",
       "    <tr style=\"text-align: right;\">\n",
       "      <th></th>\n",
       "      <th>satisfaction_level</th>\n",
       "      <th>last_evaluation</th>\n",
       "      <th>number_project</th>\n",
       "      <th>average_montly_hours</th>\n",
       "      <th>time_spend_company</th>\n",
       "      <th>Work_accident</th>\n",
       "      <th>left</th>\n",
       "      <th>promotion_last_5years</th>\n",
       "      <th>sales</th>\n",
       "      <th>salary</th>\n",
       "    </tr>\n",
       "  </thead>\n",
       "  <tbody>\n",
       "    <tr>\n",
       "      <th>0</th>\n",
       "      <td>0.38</td>\n",
       "      <td>0.53</td>\n",
       "      <td>2</td>\n",
       "      <td>157</td>\n",
       "      <td>3</td>\n",
       "      <td>0</td>\n",
       "      <td>1</td>\n",
       "      <td>0</td>\n",
       "      <td>sales</td>\n",
       "      <td>low</td>\n",
       "    </tr>\n",
       "    <tr>\n",
       "      <th>1</th>\n",
       "      <td>0.80</td>\n",
       "      <td>0.86</td>\n",
       "      <td>5</td>\n",
       "      <td>262</td>\n",
       "      <td>6</td>\n",
       "      <td>0</td>\n",
       "      <td>1</td>\n",
       "      <td>0</td>\n",
       "      <td>sales</td>\n",
       "      <td>medium</td>\n",
       "    </tr>\n",
       "    <tr>\n",
       "      <th>2</th>\n",
       "      <td>0.11</td>\n",
       "      <td>0.88</td>\n",
       "      <td>7</td>\n",
       "      <td>272</td>\n",
       "      <td>4</td>\n",
       "      <td>0</td>\n",
       "      <td>1</td>\n",
       "      <td>0</td>\n",
       "      <td>sales</td>\n",
       "      <td>medium</td>\n",
       "    </tr>\n",
       "    <tr>\n",
       "      <th>3</th>\n",
       "      <td>0.72</td>\n",
       "      <td>0.87</td>\n",
       "      <td>5</td>\n",
       "      <td>223</td>\n",
       "      <td>5</td>\n",
       "      <td>0</td>\n",
       "      <td>1</td>\n",
       "      <td>0</td>\n",
       "      <td>sales</td>\n",
       "      <td>low</td>\n",
       "    </tr>\n",
       "    <tr>\n",
       "      <th>4</th>\n",
       "      <td>0.37</td>\n",
       "      <td>0.52</td>\n",
       "      <td>2</td>\n",
       "      <td>159</td>\n",
       "      <td>3</td>\n",
       "      <td>0</td>\n",
       "      <td>1</td>\n",
       "      <td>0</td>\n",
       "      <td>sales</td>\n",
       "      <td>low</td>\n",
       "    </tr>\n",
       "  </tbody>\n",
       "</table>\n",
       "</div>"
      ],
      "text/plain": [
       "   satisfaction_level  last_evaluation  number_project  average_montly_hours  \\\n",
       "0                0.38             0.53               2                   157   \n",
       "1                0.80             0.86               5                   262   \n",
       "2                0.11             0.88               7                   272   \n",
       "3                0.72             0.87               5                   223   \n",
       "4                0.37             0.52               2                   159   \n",
       "\n",
       "   time_spend_company  Work_accident  left  promotion_last_5years  sales  \\\n",
       "0                   3              0     1                      0  sales   \n",
       "1                   6              0     1                      0  sales   \n",
       "2                   4              0     1                      0  sales   \n",
       "3                   5              0     1                      0  sales   \n",
       "4                   3              0     1                      0  sales   \n",
       "\n",
       "   salary  \n",
       "0     low  \n",
       "1  medium  \n",
       "2  medium  \n",
       "3     low  \n",
       "4     low  "
      ]
     },
     "execution_count": 3,
     "metadata": {},
     "output_type": "execute_result"
    }
   ],
   "source": [
    "df.head()"
   ]
  },
  {
   "cell_type": "code",
   "execution_count": 4,
   "id": "fe4ccc65-d23e-4e18-8a75-08ca87b4269a",
   "metadata": {},
   "outputs": [
    {
     "data": {
      "text/plain": [
       "(14999, 10)"
      ]
     },
     "execution_count": 4,
     "metadata": {},
     "output_type": "execute_result"
    }
   ],
   "source": [
    "df.shape"
   ]
  },
  {
   "cell_type": "code",
   "execution_count": 5,
   "id": "bb279450-6aac-489e-b29e-2df8b063db52",
   "metadata": {},
   "outputs": [
    {
     "data": {
      "text/plain": [
       "satisfaction_level       0\n",
       "last_evaluation          0\n",
       "number_project           0\n",
       "average_montly_hours     0\n",
       "time_spend_company       0\n",
       "Work_accident            0\n",
       "left                     0\n",
       "promotion_last_5years    0\n",
       "sales                    0\n",
       "salary                   0\n",
       "dtype: int64"
      ]
     },
     "execution_count": 5,
     "metadata": {},
     "output_type": "execute_result"
    }
   ],
   "source": [
    "#checking the null values\n",
    "df.isna().sum()"
   ]
  },
  {
   "cell_type": "code",
   "execution_count": 6,
   "id": "8fd04d74-6461-4759-a411-0454adf289bd",
   "metadata": {},
   "outputs": [
    {
     "data": {
      "text/html": [
       "<div>\n",
       "<style scoped>\n",
       "    .dataframe tbody tr th:only-of-type {\n",
       "        vertical-align: middle;\n",
       "    }\n",
       "\n",
       "    .dataframe tbody tr th {\n",
       "        vertical-align: top;\n",
       "    }\n",
       "\n",
       "    .dataframe thead th {\n",
       "        text-align: right;\n",
       "    }\n",
       "</style>\n",
       "<table border=\"1\" class=\"dataframe\">\n",
       "  <thead>\n",
       "    <tr style=\"text-align: right;\">\n",
       "      <th></th>\n",
       "      <th>satisfaction_level</th>\n",
       "      <th>last_evaluation</th>\n",
       "      <th>number_project</th>\n",
       "      <th>average_montly_hours</th>\n",
       "      <th>time_spend_company</th>\n",
       "      <th>Work_accident</th>\n",
       "      <th>left</th>\n",
       "      <th>promotion_last_5years</th>\n",
       "    </tr>\n",
       "  </thead>\n",
       "  <tbody>\n",
       "    <tr>\n",
       "      <th>count</th>\n",
       "      <td>14999.000000</td>\n",
       "      <td>14999.000000</td>\n",
       "      <td>14999.000000</td>\n",
       "      <td>14999.000000</td>\n",
       "      <td>14999.000000</td>\n",
       "      <td>14999.000000</td>\n",
       "      <td>14999.000000</td>\n",
       "      <td>14999.000000</td>\n",
       "    </tr>\n",
       "    <tr>\n",
       "      <th>mean</th>\n",
       "      <td>0.612834</td>\n",
       "      <td>0.716102</td>\n",
       "      <td>3.803054</td>\n",
       "      <td>201.050337</td>\n",
       "      <td>3.498233</td>\n",
       "      <td>0.144610</td>\n",
       "      <td>0.238083</td>\n",
       "      <td>0.021268</td>\n",
       "    </tr>\n",
       "    <tr>\n",
       "      <th>std</th>\n",
       "      <td>0.248631</td>\n",
       "      <td>0.171169</td>\n",
       "      <td>1.232592</td>\n",
       "      <td>49.943099</td>\n",
       "      <td>1.460136</td>\n",
       "      <td>0.351719</td>\n",
       "      <td>0.425924</td>\n",
       "      <td>0.144281</td>\n",
       "    </tr>\n",
       "    <tr>\n",
       "      <th>min</th>\n",
       "      <td>0.090000</td>\n",
       "      <td>0.360000</td>\n",
       "      <td>2.000000</td>\n",
       "      <td>96.000000</td>\n",
       "      <td>2.000000</td>\n",
       "      <td>0.000000</td>\n",
       "      <td>0.000000</td>\n",
       "      <td>0.000000</td>\n",
       "    </tr>\n",
       "    <tr>\n",
       "      <th>25%</th>\n",
       "      <td>0.440000</td>\n",
       "      <td>0.560000</td>\n",
       "      <td>3.000000</td>\n",
       "      <td>156.000000</td>\n",
       "      <td>3.000000</td>\n",
       "      <td>0.000000</td>\n",
       "      <td>0.000000</td>\n",
       "      <td>0.000000</td>\n",
       "    </tr>\n",
       "    <tr>\n",
       "      <th>50%</th>\n",
       "      <td>0.640000</td>\n",
       "      <td>0.720000</td>\n",
       "      <td>4.000000</td>\n",
       "      <td>200.000000</td>\n",
       "      <td>3.000000</td>\n",
       "      <td>0.000000</td>\n",
       "      <td>0.000000</td>\n",
       "      <td>0.000000</td>\n",
       "    </tr>\n",
       "    <tr>\n",
       "      <th>75%</th>\n",
       "      <td>0.820000</td>\n",
       "      <td>0.870000</td>\n",
       "      <td>5.000000</td>\n",
       "      <td>245.000000</td>\n",
       "      <td>4.000000</td>\n",
       "      <td>0.000000</td>\n",
       "      <td>0.000000</td>\n",
       "      <td>0.000000</td>\n",
       "    </tr>\n",
       "    <tr>\n",
       "      <th>max</th>\n",
       "      <td>1.000000</td>\n",
       "      <td>1.000000</td>\n",
       "      <td>7.000000</td>\n",
       "      <td>310.000000</td>\n",
       "      <td>10.000000</td>\n",
       "      <td>1.000000</td>\n",
       "      <td>1.000000</td>\n",
       "      <td>1.000000</td>\n",
       "    </tr>\n",
       "  </tbody>\n",
       "</table>\n",
       "</div>"
      ],
      "text/plain": [
       "       satisfaction_level  last_evaluation  number_project  \\\n",
       "count        14999.000000     14999.000000    14999.000000   \n",
       "mean             0.612834         0.716102        3.803054   \n",
       "std              0.248631         0.171169        1.232592   \n",
       "min              0.090000         0.360000        2.000000   \n",
       "25%              0.440000         0.560000        3.000000   \n",
       "50%              0.640000         0.720000        4.000000   \n",
       "75%              0.820000         0.870000        5.000000   \n",
       "max              1.000000         1.000000        7.000000   \n",
       "\n",
       "       average_montly_hours  time_spend_company  Work_accident          left  \\\n",
       "count          14999.000000        14999.000000   14999.000000  14999.000000   \n",
       "mean             201.050337            3.498233       0.144610      0.238083   \n",
       "std               49.943099            1.460136       0.351719      0.425924   \n",
       "min               96.000000            2.000000       0.000000      0.000000   \n",
       "25%              156.000000            3.000000       0.000000      0.000000   \n",
       "50%              200.000000            3.000000       0.000000      0.000000   \n",
       "75%              245.000000            4.000000       0.000000      0.000000   \n",
       "max              310.000000           10.000000       1.000000      1.000000   \n",
       "\n",
       "       promotion_last_5years  \n",
       "count           14999.000000  \n",
       "mean                0.021268  \n",
       "std                 0.144281  \n",
       "min                 0.000000  \n",
       "25%                 0.000000  \n",
       "50%                 0.000000  \n",
       "75%                 0.000000  \n",
       "max                 1.000000  "
      ]
     },
     "execution_count": 6,
     "metadata": {},
     "output_type": "execute_result"
    }
   ],
   "source": [
    "# To view some basic statistical details like mean, percentile, std\n",
    "df.describe()"
   ]
  },
  {
   "cell_type": "markdown",
   "id": "0e0202c7-1dd4-4054-b427-8026bb8ea7d2",
   "metadata": {},
   "source": [
    "#### From the above table we can infer the following points:\n",
    "* 1. Employees have a relatively short tenure with the firm (average of 3.5 years, max of 10 years)\n",
    "* 2. Employees are generally more satisfied than not (0.61 average satisfaction level)\n",
    "* 3. Employyes are generally above average performers (0.716 average rating in their last evaluation)\n",
    "* 4. 14.46% (approximately 1 in 7) of the people have had work accidents.\n"
   ]
  },
  {
   "cell_type": "code",
   "execution_count": 7,
   "id": "621ecbd4-70b6-45cc-a451-286c1359fed0",
   "metadata": {},
   "outputs": [
    {
     "data": {
      "text/html": [
       "<div>\n",
       "<style scoped>\n",
       "    .dataframe tbody tr th:only-of-type {\n",
       "        vertical-align: middle;\n",
       "    }\n",
       "\n",
       "    .dataframe tbody tr th {\n",
       "        vertical-align: top;\n",
       "    }\n",
       "\n",
       "    .dataframe thead th {\n",
       "        text-align: right;\n",
       "    }\n",
       "</style>\n",
       "<table border=\"1\" class=\"dataframe\">\n",
       "  <thead>\n",
       "    <tr style=\"text-align: right;\">\n",
       "      <th></th>\n",
       "      <th>sales</th>\n",
       "      <th>salary</th>\n",
       "    </tr>\n",
       "  </thead>\n",
       "  <tbody>\n",
       "    <tr>\n",
       "      <th>count</th>\n",
       "      <td>14999</td>\n",
       "      <td>14999</td>\n",
       "    </tr>\n",
       "    <tr>\n",
       "      <th>unique</th>\n",
       "      <td>10</td>\n",
       "      <td>3</td>\n",
       "    </tr>\n",
       "    <tr>\n",
       "      <th>top</th>\n",
       "      <td>sales</td>\n",
       "      <td>low</td>\n",
       "    </tr>\n",
       "    <tr>\n",
       "      <th>freq</th>\n",
       "      <td>4140</td>\n",
       "      <td>7316</td>\n",
       "    </tr>\n",
       "  </tbody>\n",
       "</table>\n",
       "</div>"
      ],
      "text/plain": [
       "        sales salary\n",
       "count   14999  14999\n",
       "unique     10      3\n",
       "top     sales    low\n",
       "freq     4140   7316"
      ]
     },
     "execution_count": 7,
     "metadata": {},
     "output_type": "execute_result"
    }
   ],
   "source": [
    "# Describing the Categorical varibale\n",
    "df.describe(include='O')"
   ]
  },
  {
   "cell_type": "code",
   "execution_count": 8,
   "id": "d048d3c5-6167-4b98-b3c3-9561d7a0c7b9",
   "metadata": {},
   "outputs": [
    {
     "name": "stdout",
     "output_type": "stream",
     "text": [
      "<class 'pandas.core.frame.DataFrame'>\n",
      "RangeIndex: 14999 entries, 0 to 14998\n",
      "Data columns (total 10 columns):\n",
      " #   Column                 Non-Null Count  Dtype  \n",
      "---  ------                 --------------  -----  \n",
      " 0   satisfaction_level     14999 non-null  float64\n",
      " 1   last_evaluation        14999 non-null  float64\n",
      " 2   number_project         14999 non-null  int64  \n",
      " 3   average_montly_hours   14999 non-null  int64  \n",
      " 4   time_spend_company     14999 non-null  int64  \n",
      " 5   Work_accident          14999 non-null  int64  \n",
      " 6   left                   14999 non-null  int64  \n",
      " 7   promotion_last_5years  14999 non-null  int64  \n",
      " 8   sales                  14999 non-null  object \n",
      " 9   salary                 14999 non-null  object \n",
      "dtypes: float64(2), int64(6), object(2)\n",
      "memory usage: 1.1+ MB\n"
     ]
    }
   ],
   "source": [
    "df.info()"
   ]
  },
  {
   "cell_type": "code",
   "execution_count": 9,
   "id": "2ad1b62d-ef30-43b3-83c2-fd4bb1503355",
   "metadata": {},
   "outputs": [],
   "source": [
    "# Rename the columns\n",
    "df = df.rename(columns={'average_montly_hours':'average_weekly_hours', 'sales':'department'})"
   ]
  },
  {
   "cell_type": "code",
   "execution_count": 10,
   "id": "8241a841-7cb8-43d7-bc15-f94cf456827e",
   "metadata": {},
   "outputs": [
    {
     "data": {
      "text/html": [
       "<div>\n",
       "<style scoped>\n",
       "    .dataframe tbody tr th:only-of-type {\n",
       "        vertical-align: middle;\n",
       "    }\n",
       "\n",
       "    .dataframe tbody tr th {\n",
       "        vertical-align: top;\n",
       "    }\n",
       "\n",
       "    .dataframe thead th {\n",
       "        text-align: right;\n",
       "    }\n",
       "</style>\n",
       "<table border=\"1\" class=\"dataframe\">\n",
       "  <thead>\n",
       "    <tr style=\"text-align: right;\">\n",
       "      <th></th>\n",
       "      <th>satisfaction_level</th>\n",
       "      <th>last_evaluation</th>\n",
       "      <th>number_project</th>\n",
       "      <th>average_weekly_hours</th>\n",
       "      <th>time_spend_company</th>\n",
       "      <th>Work_accident</th>\n",
       "      <th>left</th>\n",
       "      <th>promotion_last_5years</th>\n",
       "      <th>department</th>\n",
       "      <th>salary</th>\n",
       "    </tr>\n",
       "  </thead>\n",
       "  <tbody>\n",
       "    <tr>\n",
       "      <th>0</th>\n",
       "      <td>0.38</td>\n",
       "      <td>0.53</td>\n",
       "      <td>2</td>\n",
       "      <td>36.230769</td>\n",
       "      <td>3</td>\n",
       "      <td>0</td>\n",
       "      <td>1</td>\n",
       "      <td>0</td>\n",
       "      <td>sales</td>\n",
       "      <td>low</td>\n",
       "    </tr>\n",
       "    <tr>\n",
       "      <th>1</th>\n",
       "      <td>0.80</td>\n",
       "      <td>0.86</td>\n",
       "      <td>5</td>\n",
       "      <td>60.461538</td>\n",
       "      <td>6</td>\n",
       "      <td>0</td>\n",
       "      <td>1</td>\n",
       "      <td>0</td>\n",
       "      <td>sales</td>\n",
       "      <td>medium</td>\n",
       "    </tr>\n",
       "    <tr>\n",
       "      <th>2</th>\n",
       "      <td>0.11</td>\n",
       "      <td>0.88</td>\n",
       "      <td>7</td>\n",
       "      <td>62.769231</td>\n",
       "      <td>4</td>\n",
       "      <td>0</td>\n",
       "      <td>1</td>\n",
       "      <td>0</td>\n",
       "      <td>sales</td>\n",
       "      <td>medium</td>\n",
       "    </tr>\n",
       "  </tbody>\n",
       "</table>\n",
       "</div>"
      ],
      "text/plain": [
       "   satisfaction_level  last_evaluation  number_project  average_weekly_hours  \\\n",
       "0                0.38             0.53               2             36.230769   \n",
       "1                0.80             0.86               5             60.461538   \n",
       "2                0.11             0.88               7             62.769231   \n",
       "\n",
       "   time_spend_company  Work_accident  left  promotion_last_5years department  \\\n",
       "0                   3              0     1                      0      sales   \n",
       "1                   6              0     1                      0      sales   \n",
       "2                   4              0     1                      0      sales   \n",
       "\n",
       "   salary  \n",
       "0     low  \n",
       "1  medium  \n",
       "2  medium  "
      ]
     },
     "execution_count": 10,
     "metadata": {},
     "output_type": "execute_result"
    }
   ],
   "source": [
    "# calculate the Avg. weekly hours.\n",
    "df['average_weekly_hours'] = df['average_weekly_hours']*12/52\n",
    "\n",
    "# check the changes\n",
    "df.head(3)"
   ]
  },
  {
   "cell_type": "code",
   "execution_count": 11,
   "id": "5ad25c6a-f622-410d-b6a5-e1bdff7f7949",
   "metadata": {},
   "outputs": [
    {
     "data": {
      "text/plain": [
       "array([[1.        , 0.41721063],\n",
       "       [0.41721063, 1.        ]])"
      ]
     },
     "execution_count": 11,
     "metadata": {},
     "output_type": "execute_result"
    }
   ],
   "source": [
    "# 'Number of projects' and 'avg weekly hours' seems to be related, so we need to check whether these two are not highly correlated. \n",
    "# if yes, then we would remove the feature.\n",
    "\n",
    "np.corrcoef(df['number_project'], df['average_weekly_hours'])\n",
    "\n",
    "# Observation: \n",
    "    # Below result gives 0.417 as coefficient of correlation therefore the two features are not highly correlated\n",
    "    # therefore no need to remove any of the two feature.\n",
    "    "
   ]
  },
  {
   "cell_type": "code",
   "execution_count": 12,
   "id": "9bd74500-51b4-4646-971e-7204b1c00cf7",
   "metadata": {},
   "outputs": [
    {
     "data": {
      "text/plain": [
       "low       7316\n",
       "medium    6446\n",
       "high      1237\n",
       "Name: salary, dtype: int64"
      ]
     },
     "execution_count": 12,
     "metadata": {},
     "output_type": "execute_result"
    }
   ],
   "source": [
    "df.salary.value_counts()"
   ]
  },
  {
   "cell_type": "markdown",
   "id": "25ed9f39-2082-418d-a6d0-da0e3f2c68df",
   "metadata": {},
   "source": [
    "### Performing EDA to check which factor contribute most to employee turnover."
   ]
  },
  {
   "cell_type": "code",
   "execution_count": 13,
   "id": "ba416a12-dd23-4d07-8add-d3433eb7a11c",
   "metadata": {},
   "outputs": [
    {
     "data": {
      "text/html": [
       "<div>\n",
       "<style scoped>\n",
       "    .dataframe tbody tr th:only-of-type {\n",
       "        vertical-align: middle;\n",
       "    }\n",
       "\n",
       "    .dataframe tbody tr th {\n",
       "        vertical-align: top;\n",
       "    }\n",
       "\n",
       "    .dataframe thead th {\n",
       "        text-align: right;\n",
       "    }\n",
       "</style>\n",
       "<table border=\"1\" class=\"dataframe\">\n",
       "  <thead>\n",
       "    <tr style=\"text-align: right;\">\n",
       "      <th></th>\n",
       "      <th>salary</th>\n",
       "      <th>left</th>\n",
       "    </tr>\n",
       "  </thead>\n",
       "  <tbody>\n",
       "    <tr>\n",
       "      <th>1</th>\n",
       "      <td>low</td>\n",
       "      <td>0.296884</td>\n",
       "    </tr>\n",
       "    <tr>\n",
       "      <th>2</th>\n",
       "      <td>medium</td>\n",
       "      <td>0.204313</td>\n",
       "    </tr>\n",
       "    <tr>\n",
       "      <th>0</th>\n",
       "      <td>high</td>\n",
       "      <td>0.066289</td>\n",
       "    </tr>\n",
       "  </tbody>\n",
       "</table>\n",
       "</div>"
      ],
      "text/plain": [
       "   salary      left\n",
       "1     low  0.296884\n",
       "2  medium  0.204313\n",
       "0    high  0.066289"
      ]
     },
     "execution_count": 13,
     "metadata": {},
     "output_type": "execute_result"
    }
   ],
   "source": [
    "df[['salary', 'left']].groupby(['salary'], as_index=False).mean().sort_values(by='left', ascending=False)\n",
    "\n",
    "#From the below result we can observe that 30% employees who left had low salary, 20% employees left had medium salary and 7% employees left had high salary.\n",
    "#This signifies that most of the employees left had low salary. \n",
    "#Therefore 'salary' feature can be considered as an Important factor contributing to the employees turnover."
   ]
  },
  {
   "cell_type": "code",
   "execution_count": 14,
   "id": "8f82c2a5-ae81-4572-be8b-43084ff86b30",
   "metadata": {},
   "outputs": [
    {
     "data": {
      "text/html": [
       "<div>\n",
       "<style scoped>\n",
       "    .dataframe tbody tr th:only-of-type {\n",
       "        vertical-align: middle;\n",
       "    }\n",
       "\n",
       "    .dataframe tbody tr th {\n",
       "        vertical-align: top;\n",
       "    }\n",
       "\n",
       "    .dataframe thead th {\n",
       "        text-align: right;\n",
       "    }\n",
       "</style>\n",
       "<table border=\"1\" class=\"dataframe\">\n",
       "  <thead>\n",
       "    <tr style=\"text-align: right;\">\n",
       "      <th></th>\n",
       "      <th>Work_accident</th>\n",
       "      <th>left</th>\n",
       "    </tr>\n",
       "  </thead>\n",
       "  <tbody>\n",
       "    <tr>\n",
       "      <th>0</th>\n",
       "      <td>0</td>\n",
       "      <td>0.265160</td>\n",
       "    </tr>\n",
       "    <tr>\n",
       "      <th>1</th>\n",
       "      <td>1</td>\n",
       "      <td>0.077916</td>\n",
       "    </tr>\n",
       "  </tbody>\n",
       "</table>\n",
       "</div>"
      ],
      "text/plain": [
       "   Work_accident      left\n",
       "0              0  0.265160\n",
       "1              1  0.077916"
      ]
     },
     "execution_count": 14,
     "metadata": {},
     "output_type": "execute_result"
    }
   ],
   "source": [
    "df[['Work_accident', 'left']].groupby(['Work_accident'], as_index=False).mean().sort_values(by='left', ascending=False)\n",
    "\n",
    "# From the below result we can see that only 7.8% of employees left who had work accident and 26.5% employees left who did not have any work accident.\n",
    "# Means having an accident at work does not necessarily correlate strongly with leaving the firm.\n",
    "# Therefore we should not consider the Work_accident feature in our model."
   ]
  },
  {
   "cell_type": "code",
   "execution_count": 15,
   "id": "46224f6e-e7b3-4820-a91c-d8e264fed6bc",
   "metadata": {},
   "outputs": [
    {
     "data": {
      "text/html": [
       "<div>\n",
       "<style scoped>\n",
       "    .dataframe tbody tr th:only-of-type {\n",
       "        vertical-align: middle;\n",
       "    }\n",
       "\n",
       "    .dataframe tbody tr th {\n",
       "        vertical-align: top;\n",
       "    }\n",
       "\n",
       "    .dataframe thead th {\n",
       "        text-align: right;\n",
       "    }\n",
       "</style>\n",
       "<table border=\"1\" class=\"dataframe\">\n",
       "  <thead>\n",
       "    <tr style=\"text-align: right;\">\n",
       "      <th></th>\n",
       "      <th>department</th>\n",
       "      <th>left</th>\n",
       "    </tr>\n",
       "  </thead>\n",
       "  <tbody>\n",
       "    <tr>\n",
       "      <th>3</th>\n",
       "      <td>hr</td>\n",
       "      <td>0.290934</td>\n",
       "    </tr>\n",
       "    <tr>\n",
       "      <th>2</th>\n",
       "      <td>accounting</td>\n",
       "      <td>0.265971</td>\n",
       "    </tr>\n",
       "    <tr>\n",
       "      <th>9</th>\n",
       "      <td>technical</td>\n",
       "      <td>0.256250</td>\n",
       "    </tr>\n",
       "    <tr>\n",
       "      <th>8</th>\n",
       "      <td>support</td>\n",
       "      <td>0.248991</td>\n",
       "    </tr>\n",
       "    <tr>\n",
       "      <th>7</th>\n",
       "      <td>sales</td>\n",
       "      <td>0.244928</td>\n",
       "    </tr>\n",
       "    <tr>\n",
       "      <th>5</th>\n",
       "      <td>marketing</td>\n",
       "      <td>0.236597</td>\n",
       "    </tr>\n",
       "    <tr>\n",
       "      <th>0</th>\n",
       "      <td>IT</td>\n",
       "      <td>0.222494</td>\n",
       "    </tr>\n",
       "    <tr>\n",
       "      <th>6</th>\n",
       "      <td>product_mng</td>\n",
       "      <td>0.219512</td>\n",
       "    </tr>\n",
       "    <tr>\n",
       "      <th>1</th>\n",
       "      <td>RandD</td>\n",
       "      <td>0.153748</td>\n",
       "    </tr>\n",
       "    <tr>\n",
       "      <th>4</th>\n",
       "      <td>management</td>\n",
       "      <td>0.144444</td>\n",
       "    </tr>\n",
       "  </tbody>\n",
       "</table>\n",
       "</div>"
      ],
      "text/plain": [
       "    department      left\n",
       "3           hr  0.290934\n",
       "2   accounting  0.265971\n",
       "9    technical  0.256250\n",
       "8      support  0.248991\n",
       "7        sales  0.244928\n",
       "5    marketing  0.236597\n",
       "0           IT  0.222494\n",
       "6  product_mng  0.219512\n",
       "1        RandD  0.153748\n",
       "4   management  0.144444"
      ]
     },
     "execution_count": 15,
     "metadata": {},
     "output_type": "execute_result"
    }
   ],
   "source": [
    "df[['department', 'left']].groupby(['department'], as_index=False).mean().sort_values(by='left', ascending=False)\n",
    "\n",
    "# From the below result we can observe that most of the employees who left were from 'hr' deptt and\n",
    "# All the other deptt have almost same percentage of employees turnover except 'RandD' & 'management' deptt.\n",
    "# Both 'RandD' & 'management' deptt have least percentage of employees turnover as compared to other deptt."
   ]
  },
  {
   "cell_type": "code",
   "execution_count": 16,
   "id": "14314d88-4422-44ec-9614-cb4be089c784",
   "metadata": {},
   "outputs": [
    {
     "data": {
      "text/html": [
       "<div>\n",
       "<style scoped>\n",
       "    .dataframe tbody tr th:only-of-type {\n",
       "        vertical-align: middle;\n",
       "    }\n",
       "\n",
       "    .dataframe tbody tr th {\n",
       "        vertical-align: top;\n",
       "    }\n",
       "\n",
       "    .dataframe thead th {\n",
       "        text-align: right;\n",
       "    }\n",
       "</style>\n",
       "<table border=\"1\" class=\"dataframe\">\n",
       "  <thead>\n",
       "    <tr style=\"text-align: right;\">\n",
       "      <th></th>\n",
       "      <th>number_project</th>\n",
       "      <th>left</th>\n",
       "    </tr>\n",
       "  </thead>\n",
       "  <tbody>\n",
       "    <tr>\n",
       "      <th>5</th>\n",
       "      <td>7</td>\n",
       "      <td>1.000000</td>\n",
       "    </tr>\n",
       "    <tr>\n",
       "      <th>0</th>\n",
       "      <td>2</td>\n",
       "      <td>0.656198</td>\n",
       "    </tr>\n",
       "    <tr>\n",
       "      <th>4</th>\n",
       "      <td>6</td>\n",
       "      <td>0.557922</td>\n",
       "    </tr>\n",
       "    <tr>\n",
       "      <th>3</th>\n",
       "      <td>5</td>\n",
       "      <td>0.221659</td>\n",
       "    </tr>\n",
       "    <tr>\n",
       "      <th>2</th>\n",
       "      <td>4</td>\n",
       "      <td>0.093700</td>\n",
       "    </tr>\n",
       "    <tr>\n",
       "      <th>1</th>\n",
       "      <td>3</td>\n",
       "      <td>0.017756</td>\n",
       "    </tr>\n",
       "  </tbody>\n",
       "</table>\n",
       "</div>"
      ],
      "text/plain": [
       "   number_project      left\n",
       "5               7  1.000000\n",
       "0               2  0.656198\n",
       "4               6  0.557922\n",
       "3               5  0.221659\n",
       "2               4  0.093700\n",
       "1               3  0.017756"
      ]
     },
     "execution_count": 16,
     "metadata": {},
     "output_type": "execute_result"
    }
   ],
   "source": [
    "df[['number_project', 'left']].groupby(['number_project'], as_index=False).mean().sort_values(by='left', ascending=False)\n",
    "\n",
    "# From the below result we can observe that:\n",
    "# 1. 100% of employees who had worked on 7 projects left the organisation.\n",
    "# 2. 66% of employees who had worked on 2 projects left.\n",
    "# 3. 56% of employees who had worked on 6 projects left.\n",
    "# 4. 22% of employees who had worked on 5 projects left.\n",
    "# 5. 9% of employees who had worked on 4 projects left.\n",
    "# 6. 2% of employees who had worked on 3 projects left.\n",
    "\n",
    "# This signifies that all the employees who had worked on 7 projects left.\n",
    "# Employees tend to leave when they're on a few projects or many projects.\n",
    "# Include the number of projects feature, but consider turning it into a binary variable:\n",
    "# \"Normal\" (between 3 and 5 projects, since the mean number of projects is 3.8) versus not"
   ]
  },
  {
   "cell_type": "code",
   "execution_count": 17,
   "id": "57d369ef-f6de-4c27-ab49-b10ba8be55b8",
   "metadata": {},
   "outputs": [
    {
     "data": {
      "text/html": [
       "<div>\n",
       "<style scoped>\n",
       "    .dataframe tbody tr th:only-of-type {\n",
       "        vertical-align: middle;\n",
       "    }\n",
       "\n",
       "    .dataframe tbody tr th {\n",
       "        vertical-align: top;\n",
       "    }\n",
       "\n",
       "    .dataframe thead th {\n",
       "        text-align: right;\n",
       "    }\n",
       "</style>\n",
       "<table border=\"1\" class=\"dataframe\">\n",
       "  <thead>\n",
       "    <tr style=\"text-align: right;\">\n",
       "      <th></th>\n",
       "      <th>time_spend_company</th>\n",
       "      <th>left</th>\n",
       "    </tr>\n",
       "  </thead>\n",
       "  <tbody>\n",
       "    <tr>\n",
       "      <th>3</th>\n",
       "      <td>5</td>\n",
       "      <td>0.565513</td>\n",
       "    </tr>\n",
       "    <tr>\n",
       "      <th>2</th>\n",
       "      <td>4</td>\n",
       "      <td>0.348064</td>\n",
       "    </tr>\n",
       "    <tr>\n",
       "      <th>4</th>\n",
       "      <td>6</td>\n",
       "      <td>0.291086</td>\n",
       "    </tr>\n",
       "    <tr>\n",
       "      <th>1</th>\n",
       "      <td>3</td>\n",
       "      <td>0.246159</td>\n",
       "    </tr>\n",
       "    <tr>\n",
       "      <th>0</th>\n",
       "      <td>2</td>\n",
       "      <td>0.016338</td>\n",
       "    </tr>\n",
       "    <tr>\n",
       "      <th>5</th>\n",
       "      <td>7</td>\n",
       "      <td>0.000000</td>\n",
       "    </tr>\n",
       "    <tr>\n",
       "      <th>6</th>\n",
       "      <td>8</td>\n",
       "      <td>0.000000</td>\n",
       "    </tr>\n",
       "    <tr>\n",
       "      <th>7</th>\n",
       "      <td>10</td>\n",
       "      <td>0.000000</td>\n",
       "    </tr>\n",
       "  </tbody>\n",
       "</table>\n",
       "</div>"
      ],
      "text/plain": [
       "   time_spend_company      left\n",
       "3                   5  0.565513\n",
       "2                   4  0.348064\n",
       "4                   6  0.291086\n",
       "1                   3  0.246159\n",
       "0                   2  0.016338\n",
       "5                   7  0.000000\n",
       "6                   8  0.000000\n",
       "7                  10  0.000000"
      ]
     },
     "execution_count": 17,
     "metadata": {},
     "output_type": "execute_result"
    }
   ],
   "source": [
    "df[['time_spend_company', 'left']].groupby(['time_spend_company'], as_index=False).mean().sort_values(by='left', ascending=False)\n",
    "\n",
    "# From the below result we cans see that:\n",
    "# Employees who have spent 7 years or more in the company did not leave the company.\n",
    "# Employees who have spent between 4-6 years in the company tends to leave the company.\n",
    "# So we can conclude that workers are more likely to leave once they've spent a few years at the firm, but after 7 years everyone has stayed\n",
    "# Therefore we can include the years at the firm feature, but band years 7 and onward."
   ]
  },
  {
   "cell_type": "code",
   "execution_count": 18,
   "id": "97311b43-c7cf-4a99-a002-1e6b3f3c9141",
   "metadata": {},
   "outputs": [
    {
     "data": {
      "text/html": [
       "<div>\n",
       "<style scoped>\n",
       "    .dataframe tbody tr th:only-of-type {\n",
       "        vertical-align: middle;\n",
       "    }\n",
       "\n",
       "    .dataframe tbody tr th {\n",
       "        vertical-align: top;\n",
       "    }\n",
       "\n",
       "    .dataframe thead th {\n",
       "        text-align: right;\n",
       "    }\n",
       "</style>\n",
       "<table border=\"1\" class=\"dataframe\">\n",
       "  <thead>\n",
       "    <tr style=\"text-align: right;\">\n",
       "      <th></th>\n",
       "      <th>satisfaction_level</th>\n",
       "      <th>left</th>\n",
       "    </tr>\n",
       "  </thead>\n",
       "  <tbody>\n",
       "    <tr>\n",
       "      <th>0</th>\n",
       "      <td>0.09</td>\n",
       "      <td>1.000000</td>\n",
       "    </tr>\n",
       "    <tr>\n",
       "      <th>2</th>\n",
       "      <td>0.11</td>\n",
       "      <td>1.000000</td>\n",
       "    </tr>\n",
       "    <tr>\n",
       "      <th>1</th>\n",
       "      <td>0.10</td>\n",
       "      <td>1.000000</td>\n",
       "    </tr>\n",
       "    <tr>\n",
       "      <th>29</th>\n",
       "      <td>0.38</td>\n",
       "      <td>0.814815</td>\n",
       "    </tr>\n",
       "    <tr>\n",
       "      <th>31</th>\n",
       "      <td>0.40</td>\n",
       "      <td>0.808612</td>\n",
       "    </tr>\n",
       "    <tr>\n",
       "      <th>...</th>\n",
       "      <td>...</td>\n",
       "      <td>...</td>\n",
       "    </tr>\n",
       "    <tr>\n",
       "      <th>85</th>\n",
       "      <td>0.94</td>\n",
       "      <td>0.000000</td>\n",
       "    </tr>\n",
       "    <tr>\n",
       "      <th>84</th>\n",
       "      <td>0.93</td>\n",
       "      <td>0.000000</td>\n",
       "    </tr>\n",
       "    <tr>\n",
       "      <th>9</th>\n",
       "      <td>0.18</td>\n",
       "      <td>0.000000</td>\n",
       "    </tr>\n",
       "    <tr>\n",
       "      <th>43</th>\n",
       "      <td>0.52</td>\n",
       "      <td>0.000000</td>\n",
       "    </tr>\n",
       "    <tr>\n",
       "      <th>91</th>\n",
       "      <td>1.00</td>\n",
       "      <td>0.000000</td>\n",
       "    </tr>\n",
       "  </tbody>\n",
       "</table>\n",
       "<p>92 rows × 2 columns</p>\n",
       "</div>"
      ],
      "text/plain": [
       "    satisfaction_level      left\n",
       "0                 0.09  1.000000\n",
       "2                 0.11  1.000000\n",
       "1                 0.10  1.000000\n",
       "29                0.38  0.814815\n",
       "31                0.40  0.808612\n",
       "..                 ...       ...\n",
       "85                0.94  0.000000\n",
       "84                0.93  0.000000\n",
       "9                 0.18  0.000000\n",
       "43                0.52  0.000000\n",
       "91                1.00  0.000000\n",
       "\n",
       "[92 rows x 2 columns]"
      ]
     },
     "execution_count": 18,
     "metadata": {},
     "output_type": "execute_result"
    }
   ],
   "source": [
    "df[['satisfaction_level', 'left']].groupby(['satisfaction_level'], as_index=False).mean().sort_values(by='left', ascending=False)\n",
    "\n",
    "# From the below Result we can see that:\n",
    "# Employee who have satisfaction level is less than 0.50 tends to leave the company.\n",
    "# Employee who have satisfaction level is more than 0.50 tends have to stayed in the company"
   ]
  },
  {
   "cell_type": "code",
   "execution_count": 19,
   "id": "4279048c-e3eb-4c8c-825d-d6f2da461bbe",
   "metadata": {},
   "outputs": [
    {
     "data": {
      "text/html": [
       "<div>\n",
       "<style scoped>\n",
       "    .dataframe tbody tr th:only-of-type {\n",
       "        vertical-align: middle;\n",
       "    }\n",
       "\n",
       "    .dataframe tbody tr th {\n",
       "        vertical-align: top;\n",
       "    }\n",
       "\n",
       "    .dataframe thead th {\n",
       "        text-align: right;\n",
       "    }\n",
       "</style>\n",
       "<table border=\"1\" class=\"dataframe\">\n",
       "  <thead>\n",
       "    <tr style=\"text-align: right;\">\n",
       "      <th></th>\n",
       "      <th>department</th>\n",
       "      <th>average_weekly_hours</th>\n",
       "    </tr>\n",
       "  </thead>\n",
       "  <tbody>\n",
       "    <tr>\n",
       "      <th>9</th>\n",
       "      <td>technical</td>\n",
       "      <td>46.730175</td>\n",
       "    </tr>\n",
       "    <tr>\n",
       "      <th>0</th>\n",
       "      <td>IT</td>\n",
       "      <td>46.665225</td>\n",
       "    </tr>\n",
       "    <tr>\n",
       "      <th>4</th>\n",
       "      <td>management</td>\n",
       "      <td>46.442125</td>\n",
       "    </tr>\n",
       "    <tr>\n",
       "      <th>2</th>\n",
       "      <td>accounting</td>\n",
       "      <td>46.422224</td>\n",
       "    </tr>\n",
       "    <tr>\n",
       "      <th>7</th>\n",
       "      <td>sales</td>\n",
       "      <td>46.364158</td>\n",
       "    </tr>\n",
       "    <tr>\n",
       "      <th>1</th>\n",
       "      <td>RandD</td>\n",
       "      <td>46.338579</td>\n",
       "    </tr>\n",
       "    <tr>\n",
       "      <th>8</th>\n",
       "      <td>support</td>\n",
       "      <td>46.328813</td>\n",
       "    </tr>\n",
       "    <tr>\n",
       "      <th>6</th>\n",
       "      <td>product_mng</td>\n",
       "      <td>46.145915</td>\n",
       "    </tr>\n",
       "    <tr>\n",
       "      <th>5</th>\n",
       "      <td>marketing</td>\n",
       "      <td>46.012103</td>\n",
       "    </tr>\n",
       "    <tr>\n",
       "      <th>3</th>\n",
       "      <td>hr</td>\n",
       "      <td>45.850317</td>\n",
       "    </tr>\n",
       "  </tbody>\n",
       "</table>\n",
       "</div>"
      ],
      "text/plain": [
       "    department  average_weekly_hours\n",
       "9    technical             46.730175\n",
       "0           IT             46.665225\n",
       "4   management             46.442125\n",
       "2   accounting             46.422224\n",
       "7        sales             46.364158\n",
       "1        RandD             46.338579\n",
       "8      support             46.328813\n",
       "6  product_mng             46.145915\n",
       "5    marketing             46.012103\n",
       "3           hr             45.850317"
      ]
     },
     "execution_count": 19,
     "metadata": {},
     "output_type": "execute_result"
    }
   ],
   "source": [
    "# Checking whether 'department' affects the 'avg weekly hours' feature of the employee which in result affects employee turnover.\n",
    "df[['department','average_weekly_hours']].groupby(['department'], as_index=False).mean().sort_values(by='average_weekly_hours', ascending=False)\n",
    "\n",
    "# From the below result we can see that there are very minimal differences in the weekly hours worked across departments.\n",
    "# The department feature does not seem very useful therefore we will not include this in our model."
   ]
  },
  {
   "cell_type": "code",
   "execution_count": 20,
   "id": "4123b830-8b1a-496c-bb41-aff8799f10d4",
   "metadata": {},
   "outputs": [
    {
     "data": {
      "text/plain": [
       "0    14680\n",
       "1      319\n",
       "Name: promotion_last_5years, dtype: int64"
      ]
     },
     "execution_count": 20,
     "metadata": {},
     "output_type": "execute_result"
    }
   ],
   "source": [
    "# Checking how many employees got promoted in last 5 years.\n",
    "df['promotion_last_5years'].value_counts()\n",
    "\n",
    "# From the below result we can see that only 319 employees got promoted in the last 5 years.\n",
    "# This percentage is too small for the feature to be a meaningful predictor.\n",
    "# Therefore we won't be using 'promotion_last_5years' feature in our model."
   ]
  },
  {
   "cell_type": "code",
   "execution_count": 21,
   "id": "70a9988c-0fca-40ce-9084-f9270f12c1a3",
   "metadata": {
    "tags": []
   },
   "outputs": [
    {
     "data": {
      "text/html": [
       "<div>\n",
       "<style scoped>\n",
       "    .dataframe tbody tr th:only-of-type {\n",
       "        vertical-align: middle;\n",
       "    }\n",
       "\n",
       "    .dataframe tbody tr th {\n",
       "        vertical-align: top;\n",
       "    }\n",
       "\n",
       "    .dataframe thead th {\n",
       "        text-align: right;\n",
       "    }\n",
       "</style>\n",
       "<table border=\"1\" class=\"dataframe\">\n",
       "  <thead>\n",
       "    <tr style=\"text-align: right;\">\n",
       "      <th></th>\n",
       "      <th>satisfaction_level</th>\n",
       "      <th>last_evaluation</th>\n",
       "      <th>number_project</th>\n",
       "      <th>average_weekly_hours</th>\n",
       "      <th>time_spend_company</th>\n",
       "      <th>Work_accident</th>\n",
       "      <th>left</th>\n",
       "      <th>promotion_last_5years</th>\n",
       "    </tr>\n",
       "  </thead>\n",
       "  <tbody>\n",
       "    <tr>\n",
       "      <th>satisfaction_level</th>\n",
       "      <td>1.000000</td>\n",
       "      <td>0.105021</td>\n",
       "      <td>-0.142970</td>\n",
       "      <td>-0.020048</td>\n",
       "      <td>-0.100866</td>\n",
       "      <td>0.058697</td>\n",
       "      <td>-0.388375</td>\n",
       "      <td>0.025605</td>\n",
       "    </tr>\n",
       "    <tr>\n",
       "      <th>last_evaluation</th>\n",
       "      <td>0.105021</td>\n",
       "      <td>1.000000</td>\n",
       "      <td>0.349333</td>\n",
       "      <td>0.339742</td>\n",
       "      <td>0.131591</td>\n",
       "      <td>-0.007104</td>\n",
       "      <td>0.006567</td>\n",
       "      <td>-0.008684</td>\n",
       "    </tr>\n",
       "    <tr>\n",
       "      <th>number_project</th>\n",
       "      <td>-0.142970</td>\n",
       "      <td>0.349333</td>\n",
       "      <td>1.000000</td>\n",
       "      <td>0.417211</td>\n",
       "      <td>0.196786</td>\n",
       "      <td>-0.004741</td>\n",
       "      <td>0.023787</td>\n",
       "      <td>-0.006064</td>\n",
       "    </tr>\n",
       "    <tr>\n",
       "      <th>average_weekly_hours</th>\n",
       "      <td>-0.020048</td>\n",
       "      <td>0.339742</td>\n",
       "      <td>0.417211</td>\n",
       "      <td>1.000000</td>\n",
       "      <td>0.127755</td>\n",
       "      <td>-0.010143</td>\n",
       "      <td>0.071287</td>\n",
       "      <td>-0.003544</td>\n",
       "    </tr>\n",
       "    <tr>\n",
       "      <th>time_spend_company</th>\n",
       "      <td>-0.100866</td>\n",
       "      <td>0.131591</td>\n",
       "      <td>0.196786</td>\n",
       "      <td>0.127755</td>\n",
       "      <td>1.000000</td>\n",
       "      <td>0.002120</td>\n",
       "      <td>0.144822</td>\n",
       "      <td>0.067433</td>\n",
       "    </tr>\n",
       "    <tr>\n",
       "      <th>Work_accident</th>\n",
       "      <td>0.058697</td>\n",
       "      <td>-0.007104</td>\n",
       "      <td>-0.004741</td>\n",
       "      <td>-0.010143</td>\n",
       "      <td>0.002120</td>\n",
       "      <td>1.000000</td>\n",
       "      <td>-0.154622</td>\n",
       "      <td>0.039245</td>\n",
       "    </tr>\n",
       "    <tr>\n",
       "      <th>left</th>\n",
       "      <td>-0.388375</td>\n",
       "      <td>0.006567</td>\n",
       "      <td>0.023787</td>\n",
       "      <td>0.071287</td>\n",
       "      <td>0.144822</td>\n",
       "      <td>-0.154622</td>\n",
       "      <td>1.000000</td>\n",
       "      <td>-0.061788</td>\n",
       "    </tr>\n",
       "    <tr>\n",
       "      <th>promotion_last_5years</th>\n",
       "      <td>0.025605</td>\n",
       "      <td>-0.008684</td>\n",
       "      <td>-0.006064</td>\n",
       "      <td>-0.003544</td>\n",
       "      <td>0.067433</td>\n",
       "      <td>0.039245</td>\n",
       "      <td>-0.061788</td>\n",
       "      <td>1.000000</td>\n",
       "    </tr>\n",
       "  </tbody>\n",
       "</table>\n",
       "</div>"
      ],
      "text/plain": [
       "                       satisfaction_level  last_evaluation  number_project  \\\n",
       "satisfaction_level               1.000000         0.105021       -0.142970   \n",
       "last_evaluation                  0.105021         1.000000        0.349333   \n",
       "number_project                  -0.142970         0.349333        1.000000   \n",
       "average_weekly_hours            -0.020048         0.339742        0.417211   \n",
       "time_spend_company              -0.100866         0.131591        0.196786   \n",
       "Work_accident                    0.058697        -0.007104       -0.004741   \n",
       "left                            -0.388375         0.006567        0.023787   \n",
       "promotion_last_5years            0.025605        -0.008684       -0.006064   \n",
       "\n",
       "                       average_weekly_hours  time_spend_company  \\\n",
       "satisfaction_level                -0.020048           -0.100866   \n",
       "last_evaluation                    0.339742            0.131591   \n",
       "number_project                     0.417211            0.196786   \n",
       "average_weekly_hours               1.000000            0.127755   \n",
       "time_spend_company                 0.127755            1.000000   \n",
       "Work_accident                     -0.010143            0.002120   \n",
       "left                               0.071287            0.144822   \n",
       "promotion_last_5years             -0.003544            0.067433   \n",
       "\n",
       "                       Work_accident      left  promotion_last_5years  \n",
       "satisfaction_level          0.058697 -0.388375               0.025605  \n",
       "last_evaluation            -0.007104  0.006567              -0.008684  \n",
       "number_project             -0.004741  0.023787              -0.006064  \n",
       "average_weekly_hours       -0.010143  0.071287              -0.003544  \n",
       "time_spend_company          0.002120  0.144822               0.067433  \n",
       "Work_accident               1.000000 -0.154622               0.039245  \n",
       "left                       -0.154622  1.000000              -0.061788  \n",
       "promotion_last_5years       0.039245 -0.061788               1.000000  "
      ]
     },
     "execution_count": 21,
     "metadata": {},
     "output_type": "execute_result"
    }
   ],
   "source": [
    "# Correlation\n",
    "\n",
    "corr = df.corr()\n",
    "corr"
   ]
  },
  {
   "cell_type": "code",
   "execution_count": 22,
   "id": "bc88b042-880a-4200-bbbc-7ea9a841d663",
   "metadata": {},
   "outputs": [
    {
     "data": {
      "image/png": "[encoded data removed]",
      "text/plain": [
       "<Figure size 1080x432 with 2 Axes>"
      ]
     },
     "metadata": {
      "needs_background": "light"
     },
     "output_type": "display_data"
    }
   ],
   "source": [
    "# Plotting the heatmap of correlation\n",
    "\n",
    "plt.figure(figsize=(15,6))\n",
    "sns.heatmap(corr, cmap='RdYlGn', fmt='g', annot= True, vmin=-1, vmax=1.0)\n",
    "plt.title('Correlation Matrix', fontsize=20)\n",
    "plt.xticks(fontsize=12)\n",
    "plt.yticks(fontsize=12)\n",
    "plt.show()"
   ]
  },
  {
   "cell_type": "code",
   "execution_count": 23,
   "id": "829de4cd-97ef-4991-b0c0-b5575c78c053",
   "metadata": {},
   "outputs": [
    {
     "data": {
      "image/png": "[encoded data removed]",
      "text/plain": [
       "<Figure size 576x360 with 1 Axes>"
      ]
     },
     "metadata": {},
     "output_type": "display_data"
    }
   ],
   "source": [
    "## Distribution Plot --> Employee Satisfaction\n",
    "plt.style.use('ggplot')\n",
    "plt.figure(figsize=(8,5))\n",
    "sns.distplot(df['satisfaction_level'], bins=20, kde=True, hist=True, color='green')\n",
    "plt.title('Satisfaction Level Distribution', fontsize=15)\n",
    "plt.show()"
   ]
  },
  {
   "cell_type": "code",
   "execution_count": 24,
   "id": "4560ae99-41fa-4c1a-a09f-f568de375013",
   "metadata": {},
   "outputs": [
    {
     "data": {
      "image/png": "[encoded data removed]",
      "text/plain": [
       "<Figure size 576x360 with 1 Axes>"
      ]
     },
     "metadata": {},
     "output_type": "display_data"
    }
   ],
   "source": [
    "# Distribution Plot --> Employee Evaluation\n",
    "plt.style.use('ggplot')\n",
    "plt.figure(figsize=(8,5))\n",
    "sns.distplot(df['last_evaluation'], bins=40, kde=True, hist=True, color='green')\n",
    "plt.title('Evaluation Distribution', fontsize=15)\n",
    "plt.show()"
   ]
  },
  {
   "cell_type": "code",
   "execution_count": 25,
   "id": "0b2e1f79-9f9d-4fa7-a08c-12261d2a24ad",
   "metadata": {},
   "outputs": [
    {
     "data": {
      "image/png": "[encoded data removed]",
      "text/plain": [
       "<Figure size 576x360 with 1 Axes>"
      ]
     },
     "metadata": {},
     "output_type": "display_data"
    }
   ],
   "source": [
    "# Distribution Plot --> Employee Average Monthly Hours\n",
    "plt.style.use('ggplot')\n",
    "plt.figure(figsize=(8,5))\n",
    "sns.distplot(df['average_weekly_hours'], bins=10, kde=True, hist=True, color='green')\n",
    "plt.title('Weekly Hours Distriution (Avg.)', fontsize=15)\n",
    "plt.show()"
   ]
  },
  {
   "cell_type": "code",
   "execution_count": 26,
   "id": "bdd6db42-a43f-4658-bf42-3b77b7ebc52b",
   "metadata": {},
   "outputs": [
    {
     "data": {
      "image/png": "[encoded data removed]",
      "text/plain": [
       "<Figure size 720x432 with 1 Axes>"
      ]
     },
     "metadata": {},
     "output_type": "display_data"
    }
   ],
   "source": [
    "# Draw the bar plot of Employee Project Count of both employees who left and who stayed in the organization.\n",
    "\n",
    "plt.figure(figsize=(10,6))\n",
    "sns.set(style='whitegrid')\n",
    "sns.countplot(x='number_project', data=df, hue='left')\n",
    "plt.xlabel('Number of Projects', fontsize=12)\n",
    "plt.ylabel('Employess Count', fontsize=12)\n",
    "plt.title('Project Count for Employees Who Left(1) and Stayed(0)', fontsize=18)\n",
    "plt.show()"
   ]
  },
  {
   "cell_type": "markdown",
   "id": "8b29bb54-873c-4c29-91d8-7f33d15a195e",
   "metadata": {},
   "source": [
    "#### Observations:\n",
    "* Employees who have been involved in **3-5 projects** are **more likely to stay** in the company.\n",
    "* Employees who have been involved in **fewer than 3 or more than 5 projects** are **more likely to leave** the company."
   ]
  },
  {
   "cell_type": "code",
   "execution_count": 27,
   "id": "dcafe8c6-760a-4e66-93a0-472bbeaed513",
   "metadata": {},
   "outputs": [],
   "source": [
    "# dropping the columns which are not useful.\n",
    "\n",
    "df = df.drop(['Work_accident', 'promotion_last_5years', 'average_weekly_hours', 'department'], axis=1)"
   ]
  },
  {
   "cell_type": "markdown",
   "id": "180b5035-24c2-42ae-9e6e-9a7a478268b5",
   "metadata": {},
   "source": [
    "### 3) Clustering of Employees who left based on their satisfaction and evaluation."
   ]
  },
  {
   "cell_type": "code",
   "execution_count": 28,
   "id": "3f5c05f2-dcc6-4240-9d82-944050da2ce6",
   "metadata": {},
   "outputs": [],
   "source": [
    "df_clust = df[['satisfaction_level', 'last_evaluation', 'left']]"
   ]
  },
  {
   "cell_type": "code",
   "execution_count": 29,
   "id": "3c5b18b7-557a-4764-8f12-7c819a07293e",
   "metadata": {},
   "outputs": [],
   "source": [
    "# Calculation of z score.\n",
    "\n",
    "from sklearn.preprocessing import StandardScaler\n",
    "ss = StandardScaler()"
   ]
  },
  {
   "cell_type": "code",
   "execution_count": 30,
   "id": "a58025a6-1cd8-45b1-a408-369477ed549e",
   "metadata": {},
   "outputs": [
    {
     "data": {
      "text/html": [
       "<div>\n",
       "<style scoped>\n",
       "    .dataframe tbody tr th:only-of-type {\n",
       "        vertical-align: middle;\n",
       "    }\n",
       "\n",
       "    .dataframe tbody tr th {\n",
       "        vertical-align: top;\n",
       "    }\n",
       "\n",
       "    .dataframe thead th {\n",
       "        text-align: right;\n",
       "    }\n",
       "</style>\n",
       "<table border=\"1\" class=\"dataframe\">\n",
       "  <thead>\n",
       "    <tr style=\"text-align: right;\">\n",
       "      <th></th>\n",
       "      <th>satisfaction_level</th>\n",
       "      <th>last_evaluation</th>\n",
       "    </tr>\n",
       "  </thead>\n",
       "  <tbody>\n",
       "    <tr>\n",
       "      <th>0</th>\n",
       "      <td>0.38</td>\n",
       "      <td>0.53</td>\n",
       "    </tr>\n",
       "    <tr>\n",
       "      <th>1</th>\n",
       "      <td>0.80</td>\n",
       "      <td>0.86</td>\n",
       "    </tr>\n",
       "    <tr>\n",
       "      <th>2</th>\n",
       "      <td>0.11</td>\n",
       "      <td>0.88</td>\n",
       "    </tr>\n",
       "    <tr>\n",
       "      <th>3</th>\n",
       "      <td>0.72</td>\n",
       "      <td>0.87</td>\n",
       "    </tr>\n",
       "    <tr>\n",
       "      <th>4</th>\n",
       "      <td>0.37</td>\n",
       "      <td>0.52</td>\n",
       "    </tr>\n",
       "  </tbody>\n",
       "</table>\n",
       "</div>"
      ],
      "text/plain": [
       "   satisfaction_level  last_evaluation\n",
       "0                0.38             0.53\n",
       "1                0.80             0.86\n",
       "2                0.11             0.88\n",
       "3                0.72             0.87\n",
       "4                0.37             0.52"
      ]
     },
     "execution_count": 30,
     "metadata": {},
     "output_type": "execute_result"
    }
   ],
   "source": [
    "# Preparing the data for Z score or Standard Scaler\n",
    "df1 = df_clust.drop('left', axis=1)\n",
    "df1.head()"
   ]
  },
  {
   "cell_type": "code",
   "execution_count": 31,
   "id": "e18a89ce-ec7f-485f-95a6-77af128444ae",
   "metadata": {},
   "outputs": [
    {
     "data": {
      "text/plain": [
       "array([[-0.93649469, -1.08727529],\n",
       "       [ 0.75281433,  0.84070693],\n",
       "       [-2.02247906,  0.95755433],\n",
       "       ...,\n",
       "       [-0.97671633, -1.08727529],\n",
       "       [-2.02247906,  1.42494396],\n",
       "       [-0.97671633, -1.14569899]])"
      ]
     },
     "execution_count": 31,
     "metadata": {},
     "output_type": "execute_result"
    }
   ],
   "source": [
    "# Calculating Z Score:\n",
    "z_score = ss.fit_transform(df1)\n",
    "z_score"
   ]
  },
  {
   "cell_type": "code",
   "execution_count": 32,
   "id": "6936667c-3b52-466b-97ee-2b9ab4295b8b",
   "metadata": {},
   "outputs": [],
   "source": [
    "from sklearn.cluster import KMeans\n",
    "k_means = KMeans(n_clusters=3)"
   ]
  },
  {
   "cell_type": "code",
   "execution_count": 33,
   "id": "40d61b4a-5c84-475e-8eb2-4f5f06c7a604",
   "metadata": {},
   "outputs": [
    {
     "data": {
      "text/html": [
       "<style>#sk-container-id-1 {color: black;background-color: white;}#sk-container-id-1 pre{padding: 0;}#sk-container-id-1 div.sk-toggleable {background-color: white;}#sk-container-id-1 label.sk-toggleable__label {cursor: pointer;display: block;width: 100%;margin-bottom: 0;padding: 0.3em;box-sizing: border-box;text-align: center;}#sk-container-id-1 label.sk-toggleable__label-arrow:before {content: \"▸\";float: left;margin-right: 0.25em;color: #696969;}#sk-container-id-1 label.sk-toggleable__label-arrow:hover:before {color: black;}#sk-container-id-1 div.sk-estimator:hover label.sk-toggleable__label-arrow:before {color: black;}#sk-container-id-1 div.sk-toggleable__content {max-height: 0;max-width: 0;overflow: hidden;text-align: left;background-color: #f0f8ff;}#sk-container-id-1 div.sk-toggleable__content pre {margin: 0.2em;color: black;border-radius: 0.25em;background-color: #f0f8ff;}#sk-container-id-1 input.sk-toggleable__control:checked~div.sk-toggleable__content {max-height: 200px;max-width: 100%;overflow: auto;}#sk-container-id-1 input.sk-toggleable__control:checked~label.sk-toggleable__label-arrow:before {content: \"▾\";}#sk-container-id-1 div.sk-estimator input.sk-toggleable__control:checked~label.sk-toggleable__label {background-color: #d4ebff;}#sk-container-id-1 div.sk-label input.sk-toggleable__control:checked~label.sk-toggleable__label {background-color: #d4ebff;}#sk-container-id-1 input.sk-hidden--visually {border: 0;clip: rect(1px 1px 1px 1px);clip: rect(1px, 1px, 1px, 1px);height: 1px;margin: -1px;overflow: hidden;padding: 0;position: absolute;width: 1px;}#sk-container-id-1 div.sk-estimator {font-family: monospace;background-color: #f0f8ff;border: 1px dotted black;border-radius: 0.25em;box-sizing: border-box;margin-bottom: 0.5em;}#sk-container-id-1 div.sk-estimator:hover {background-color: #d4ebff;}#sk-container-id-1 div.sk-parallel-item::after {content: \"\";width: 100%;border-bottom: 1px solid gray;flex-grow: 1;}#sk-container-id-1 div.sk-label:hover label.sk-toggleable__label {background-color: #d4ebff;}#sk-container-id-1 div.sk-serial::before {content: \"\";position: absolute;border-left: 1px solid gray;box-sizing: border-box;top: 0;bottom: 0;left: 50%;z-index: 0;}#sk-container-id-1 div.sk-serial {display: flex;flex-direction: column;align-items: center;background-color: white;padding-right: 0.2em;padding-left: 0.2em;position: relative;}#sk-container-id-1 div.sk-item {position: relative;z-index: 1;}#sk-container-id-1 div.sk-parallel {display: flex;align-items: stretch;justify-content: center;background-color: white;position: relative;}#sk-container-id-1 div.sk-item::before, #sk-container-id-1 div.sk-parallel-item::before {content: \"\";position: absolute;border-left: 1px solid gray;box-sizing: border-box;top: 0;bottom: 0;left: 50%;z-index: -1;}#sk-container-id-1 div.sk-parallel-item {display: flex;flex-direction: column;z-index: 1;position: relative;background-color: white;}#sk-container-id-1 div.sk-parallel-item:first-child::after {align-self: flex-end;width: 50%;}#sk-container-id-1 div.sk-parallel-item:last-child::after {align-self: flex-start;width: 50%;}#sk-container-id-1 div.sk-parallel-item:only-child::after {width: 0;}#sk-container-id-1 div.sk-dashed-wrapped {border: 1px dashed gray;margin: 0 0.4em 0.5em 0.4em;box-sizing: border-box;padding-bottom: 0.4em;background-color: white;}#sk-container-id-1 div.sk-label label {font-family: monospace;font-weight: bold;display: inline-block;line-height: 1.2em;}#sk-container-id-1 div.sk-label-container {text-align: center;}#sk-container-id-1 div.sk-container {/* jupyter's `normalize.less` sets `[hidden] { display: none; }` but bootstrap.min.css set `[hidden] { display: none !important; }` so we also need the `!important` here to be able to override the default hidden behavior on the sphinx rendered scikit-learn.org. See: https://github.com/scikit-learn/scikit-learn/issues/21755 */display: inline-block !important;position: relative;}#sk-container-id-1 div.sk-text-repr-fallback {display: none;}</style><div id=\"sk-container-id-1\" class=\"sk-top-container\"><div class=\"sk-text-repr-fallback\"><pre>KMeans(n_clusters=3)</pre><b>In a Jupyter environment, please rerun this cell to show the HTML representation or trust the notebook. <br />On GitHub, the HTML representation is unable to render, please try loading this page with nbviewer.org.</b></div><div class=\"sk-container\" hidden><div class=\"sk-item\"><div class=\"sk-estimator sk-toggleable\"><input class=\"sk-toggleable__control sk-hidden--visually\" id=\"sk-estimator-id-1\" type=\"checkbox\" checked><label for=\"sk-estimator-id-1\" class=\"sk-toggleable__label sk-toggleable__label-arrow\">KMeans</label><div class=\"sk-toggleable__content\"><pre>KMeans(n_clusters=3)</pre></div></div></div></div></div>"
      ],
      "text/plain": [
       "KMeans(n_clusters=3)"
      ]
     },
     "execution_count": 33,
     "metadata": {},
     "output_type": "execute_result"
    }
   ],
   "source": [
    "kmeans_1 = k_means.fit(z_score)\n",
    "kmeans_1"
   ]
  },
  {
   "cell_type": "code",
   "execution_count": 34,
   "id": "134b0f6a-7bbe-4b3d-930b-79d3df3dad89",
   "metadata": {},
   "outputs": [
    {
     "data": {
      "text/plain": [
       "array([1, 0, 2, ..., 1, 2, 1], dtype=int32)"
      ]
     },
     "execution_count": 34,
     "metadata": {},
     "output_type": "execute_result"
    }
   ],
   "source": [
    "kmeans_1.labels_"
   ]
  },
  {
   "cell_type": "code",
   "execution_count": 35,
   "id": "98e0b5f1-848c-45ae-af5d-7c1277742fac",
   "metadata": {},
   "outputs": [],
   "source": [
    "df_clust['cluster 3'] = kmeans_1.labels_"
   ]
  },
  {
   "cell_type": "code",
   "execution_count": 36,
   "id": "114c506d-885b-4455-9771-934bbbf9f543",
   "metadata": {},
   "outputs": [
    {
     "data": {
      "text/html": [
       "<div>\n",
       "<style scoped>\n",
       "    .dataframe tbody tr th:only-of-type {\n",
       "        vertical-align: middle;\n",
       "    }\n",
       "\n",
       "    .dataframe tbody tr th {\n",
       "        vertical-align: top;\n",
       "    }\n",
       "\n",
       "    .dataframe thead th {\n",
       "        text-align: right;\n",
       "    }\n",
       "</style>\n",
       "<table border=\"1\" class=\"dataframe\">\n",
       "  <thead>\n",
       "    <tr style=\"text-align: right;\">\n",
       "      <th></th>\n",
       "      <th>satisfaction_level</th>\n",
       "      <th>last_evaluation</th>\n",
       "      <th>left</th>\n",
       "      <th>cluster 3</th>\n",
       "    </tr>\n",
       "  </thead>\n",
       "  <tbody>\n",
       "    <tr>\n",
       "      <th>0</th>\n",
       "      <td>0.38</td>\n",
       "      <td>0.53</td>\n",
       "      <td>1</td>\n",
       "      <td>1</td>\n",
       "    </tr>\n",
       "    <tr>\n",
       "      <th>1</th>\n",
       "      <td>0.80</td>\n",
       "      <td>0.86</td>\n",
       "      <td>1</td>\n",
       "      <td>0</td>\n",
       "    </tr>\n",
       "    <tr>\n",
       "      <th>2</th>\n",
       "      <td>0.11</td>\n",
       "      <td>0.88</td>\n",
       "      <td>1</td>\n",
       "      <td>2</td>\n",
       "    </tr>\n",
       "    <tr>\n",
       "      <th>3</th>\n",
       "      <td>0.72</td>\n",
       "      <td>0.87</td>\n",
       "      <td>1</td>\n",
       "      <td>0</td>\n",
       "    </tr>\n",
       "    <tr>\n",
       "      <th>4</th>\n",
       "      <td>0.37</td>\n",
       "      <td>0.52</td>\n",
       "      <td>1</td>\n",
       "      <td>1</td>\n",
       "    </tr>\n",
       "  </tbody>\n",
       "</table>\n",
       "</div>"
      ],
      "text/plain": [
       "   satisfaction_level  last_evaluation  left  cluster 3\n",
       "0                0.38             0.53     1          1\n",
       "1                0.80             0.86     1          0\n",
       "2                0.11             0.88     1          2\n",
       "3                0.72             0.87     1          0\n",
       "4                0.37             0.52     1          1"
      ]
     },
     "execution_count": 36,
     "metadata": {},
     "output_type": "execute_result"
    }
   ],
   "source": [
    "df_clust.head()"
   ]
  },
  {
   "cell_type": "code",
   "execution_count": 37,
   "id": "4191c741-ca36-44e8-8f8c-1a9599016ca5",
   "metadata": {},
   "outputs": [
    {
     "data": {
      "text/plain": [
       "1    6521\n",
       "0    6476\n",
       "2    2002\n",
       "Name: cluster 3, dtype: int64"
      ]
     },
     "execution_count": 37,
     "metadata": {},
     "output_type": "execute_result"
    }
   ],
   "source": [
    "df_clust['cluster 3'].value_counts()"
   ]
  },
  {
   "cell_type": "code",
   "execution_count": 38,
   "id": "a0b3c7fa-3519-4377-977c-a84ca8e4ea6d",
   "metadata": {},
   "outputs": [
    {
     "data": {
      "image/png": "[encoded data removed]",
      "text/plain": [
       "<Figure size 601.3x540 with 12 Axes>"
      ]
     },
     "metadata": {},
     "output_type": "display_data"
    }
   ],
   "source": [
    "sns.pairplot(df_clust, hue='cluster 3')\n",
    "plt.show()"
   ]
  },
  {
   "cell_type": "markdown",
   "id": "d69a72eb-8673-4fa7-a2f1-367c863a5fdb",
   "metadata": {},
   "source": [
    "### 4) Handling 'left' class Imblance using SMOTE Techinique."
   ]
  },
  {
   "cell_type": "code",
   "execution_count": 39,
   "id": "519cb584-a4ed-4916-94cf-930a5ed19e41",
   "metadata": {},
   "outputs": [
    {
     "data": {
      "text/html": [
       "<div>\n",
       "<style scoped>\n",
       "    .dataframe tbody tr th:only-of-type {\n",
       "        vertical-align: middle;\n",
       "    }\n",
       "\n",
       "    .dataframe tbody tr th {\n",
       "        vertical-align: top;\n",
       "    }\n",
       "\n",
       "    .dataframe thead th {\n",
       "        text-align: right;\n",
       "    }\n",
       "</style>\n",
       "<table border=\"1\" class=\"dataframe\">\n",
       "  <thead>\n",
       "    <tr style=\"text-align: right;\">\n",
       "      <th></th>\n",
       "      <th>high</th>\n",
       "      <th>low</th>\n",
       "      <th>medium</th>\n",
       "    </tr>\n",
       "  </thead>\n",
       "  <tbody>\n",
       "    <tr>\n",
       "      <th>0</th>\n",
       "      <td>0</td>\n",
       "      <td>1</td>\n",
       "      <td>0</td>\n",
       "    </tr>\n",
       "    <tr>\n",
       "      <th>1</th>\n",
       "      <td>0</td>\n",
       "      <td>0</td>\n",
       "      <td>1</td>\n",
       "    </tr>\n",
       "    <tr>\n",
       "      <th>2</th>\n",
       "      <td>0</td>\n",
       "      <td>0</td>\n",
       "      <td>1</td>\n",
       "    </tr>\n",
       "    <tr>\n",
       "      <th>3</th>\n",
       "      <td>0</td>\n",
       "      <td>1</td>\n",
       "      <td>0</td>\n",
       "    </tr>\n",
       "    <tr>\n",
       "      <th>4</th>\n",
       "      <td>0</td>\n",
       "      <td>1</td>\n",
       "      <td>0</td>\n",
       "    </tr>\n",
       "    <tr>\n",
       "      <th>...</th>\n",
       "      <td>...</td>\n",
       "      <td>...</td>\n",
       "      <td>...</td>\n",
       "    </tr>\n",
       "    <tr>\n",
       "      <th>14994</th>\n",
       "      <td>0</td>\n",
       "      <td>1</td>\n",
       "      <td>0</td>\n",
       "    </tr>\n",
       "    <tr>\n",
       "      <th>14995</th>\n",
       "      <td>0</td>\n",
       "      <td>1</td>\n",
       "      <td>0</td>\n",
       "    </tr>\n",
       "    <tr>\n",
       "      <th>14996</th>\n",
       "      <td>0</td>\n",
       "      <td>1</td>\n",
       "      <td>0</td>\n",
       "    </tr>\n",
       "    <tr>\n",
       "      <th>14997</th>\n",
       "      <td>0</td>\n",
       "      <td>1</td>\n",
       "      <td>0</td>\n",
       "    </tr>\n",
       "    <tr>\n",
       "      <th>14998</th>\n",
       "      <td>0</td>\n",
       "      <td>1</td>\n",
       "      <td>0</td>\n",
       "    </tr>\n",
       "  </tbody>\n",
       "</table>\n",
       "<p>14999 rows × 3 columns</p>\n",
       "</div>"
      ],
      "text/plain": [
       "       high  low  medium\n",
       "0         0    1       0\n",
       "1         0    0       1\n",
       "2         0    0       1\n",
       "3         0    1       0\n",
       "4         0    1       0\n",
       "...     ...  ...     ...\n",
       "14994     0    1       0\n",
       "14995     0    1       0\n",
       "14996     0    1       0\n",
       "14997     0    1       0\n",
       "14998     0    1       0\n",
       "\n",
       "[14999 rows x 3 columns]"
      ]
     },
     "execution_count": 39,
     "metadata": {},
     "output_type": "execute_result"
    }
   ],
   "source": [
    "# 4.1) Creating Dummies of Categorical variable\n",
    "\n",
    "dummies= pd.get_dummies(df['salary'])\n",
    "dummies"
   ]
  },
  {
   "cell_type": "code",
   "execution_count": 40,
   "id": "99ed4141-170e-49c3-85e7-eeb6d2eea190",
   "metadata": {},
   "outputs": [],
   "source": [
    "# Concat dummies with original df.\n",
    "\n",
    "data = pd.concat([df, dummies], axis=1)"
   ]
  },
  {
   "cell_type": "code",
   "execution_count": 41,
   "id": "bad3ae07-e985-4e11-a37c-7ecfb1f1e87b",
   "metadata": {},
   "outputs": [
    {
     "data": {
      "text/html": [
       "<div>\n",
       "<style scoped>\n",
       "    .dataframe tbody tr th:only-of-type {\n",
       "        vertical-align: middle;\n",
       "    }\n",
       "\n",
       "    .dataframe tbody tr th {\n",
       "        vertical-align: top;\n",
       "    }\n",
       "\n",
       "    .dataframe thead th {\n",
       "        text-align: right;\n",
       "    }\n",
       "</style>\n",
       "<table border=\"1\" class=\"dataframe\">\n",
       "  <thead>\n",
       "    <tr style=\"text-align: right;\">\n",
       "      <th></th>\n",
       "      <th>satisfaction_level</th>\n",
       "      <th>last_evaluation</th>\n",
       "      <th>number_project</th>\n",
       "      <th>time_spend_company</th>\n",
       "      <th>left</th>\n",
       "      <th>salary</th>\n",
       "      <th>high</th>\n",
       "      <th>low</th>\n",
       "      <th>medium</th>\n",
       "    </tr>\n",
       "  </thead>\n",
       "  <tbody>\n",
       "    <tr>\n",
       "      <th>0</th>\n",
       "      <td>0.38</td>\n",
       "      <td>0.53</td>\n",
       "      <td>2</td>\n",
       "      <td>3</td>\n",
       "      <td>1</td>\n",
       "      <td>low</td>\n",
       "      <td>0</td>\n",
       "      <td>1</td>\n",
       "      <td>0</td>\n",
       "    </tr>\n",
       "    <tr>\n",
       "      <th>1</th>\n",
       "      <td>0.80</td>\n",
       "      <td>0.86</td>\n",
       "      <td>5</td>\n",
       "      <td>6</td>\n",
       "      <td>1</td>\n",
       "      <td>medium</td>\n",
       "      <td>0</td>\n",
       "      <td>0</td>\n",
       "      <td>1</td>\n",
       "    </tr>\n",
       "    <tr>\n",
       "      <th>2</th>\n",
       "      <td>0.11</td>\n",
       "      <td>0.88</td>\n",
       "      <td>7</td>\n",
       "      <td>4</td>\n",
       "      <td>1</td>\n",
       "      <td>medium</td>\n",
       "      <td>0</td>\n",
       "      <td>0</td>\n",
       "      <td>1</td>\n",
       "    </tr>\n",
       "  </tbody>\n",
       "</table>\n",
       "</div>"
      ],
      "text/plain": [
       "   satisfaction_level  last_evaluation  number_project  time_spend_company  \\\n",
       "0                0.38             0.53               2                   3   \n",
       "1                0.80             0.86               5                   6   \n",
       "2                0.11             0.88               7                   4   \n",
       "\n",
       "   left  salary  high  low  medium  \n",
       "0     1     low     0    1       0  \n",
       "1     1  medium     0    0       1  \n",
       "2     1  medium     0    0       1  "
      ]
     },
     "execution_count": 41,
     "metadata": {},
     "output_type": "execute_result"
    }
   ],
   "source": [
    "data.head(3)"
   ]
  },
  {
   "cell_type": "code",
   "execution_count": 42,
   "id": "1fa54571-0120-4962-aa0b-16749e6be66a",
   "metadata": {},
   "outputs": [],
   "source": [
    "# creating the features set.\n",
    "X = data.drop(['left', 'salary'], axis=1)\n",
    "y = data[['left']]"
   ]
  },
  {
   "cell_type": "code",
   "execution_count": 43,
   "id": "3dd0d12c-7eda-49a5-9f79-9c67d21faa68",
   "metadata": {},
   "outputs": [
    {
     "data": {
      "text/plain": [
       "left\n",
       "0       11428\n",
       "1        3571\n",
       "dtype: int64"
      ]
     },
     "execution_count": 43,
     "metadata": {},
     "output_type": "execute_result"
    }
   ],
   "source": [
    "y.value_counts()\n",
    "\n",
    "# as you can see target variable data are imbalance.\n",
    "# we would handle this through SMOTE technique."
   ]
  },
  {
   "cell_type": "code",
   "execution_count": 44,
   "id": "de30b1bd-431a-4275-96ec-d4c9c4f815e6",
   "metadata": {},
   "outputs": [],
   "source": [
    "# Splitting the data into trainig and testing\n",
    "from sklearn.model_selection import train_test_split\n",
    "X_train, X_test, y_train, y_test = train_test_split(X, y, test_size=.20, random_state=123)"
   ]
  },
  {
   "cell_type": "code",
   "execution_count": 45,
   "id": "76c57cd3-2bc3-4c79-b659-02903fd41200",
   "metadata": {},
   "outputs": [
    {
     "data": {
      "text/plain": [
       "((11999, 7), (11999, 1))"
      ]
     },
     "execution_count": 45,
     "metadata": {},
     "output_type": "execute_result"
    }
   ],
   "source": [
    "X_train.shape , y_train.shape"
   ]
  },
  {
   "cell_type": "code",
   "execution_count": 46,
   "id": "4e355f89-1a83-4f5f-8ca4-de5e1c0118bb",
   "metadata": {},
   "outputs": [],
   "source": [
    "# using SMOTE Techinique\n",
    "from imblearn.over_sampling import SMOTE\n",
    "sm = SMOTE(random_state=123)"
   ]
  },
  {
   "cell_type": "code",
   "execution_count": 47,
   "id": "85f15f2f-b9e0-4f9e-a9d6-c8a78bf77123",
   "metadata": {},
   "outputs": [
    {
     "data": {
      "text/plain": [
       "((18274, 7), (18274, 1))"
      ]
     },
     "execution_count": 47,
     "metadata": {},
     "output_type": "execute_result"
    }
   ],
   "source": [
    "# Resample the training data using SMOTE\n",
    "X_train_res, y_train_res = sm.fit_resample(X_train, y_train)\n",
    "\n",
    "X_train_res.shape, y_train_res.shape"
   ]
  },
  {
   "cell_type": "code",
   "execution_count": 48,
   "id": "45862288-0753-41ef-a9a7-43ff5ce38b53",
   "metadata": {},
   "outputs": [
    {
     "data": {
      "text/plain": [
       "(18274, 18274)"
      ]
     },
     "execution_count": 48,
     "metadata": {},
     "output_type": "execute_result"
    }
   ],
   "source": [
    "len(y_train_res[y_train_res==0]), len(y_train_res[y_train_res==1])"
   ]
  },
  {
   "cell_type": "markdown",
   "id": "068df17f-4f82-491e-81d1-8df99e105419",
   "metadata": {},
   "source": [
    "### 5) Perform K-fold cross-validation model training and evaluate performance.\n",
    "   ##### We use different algorithm to train the model and its performance.\n",
    "   * 1. Logistic Regression\n",
    "   * 2. Random Forest Classifier\n",
    "   * 3. Gradient Boosting Classifier\n",
    "   * 4. Support Vector Machine\n",
    "   * 5. Decision Tree Classifier"
   ]
  },
  {
   "cell_type": "markdown",
   "id": "9fdc1486-442c-4476-90a4-d87eeb4fe735",
   "metadata": {},
   "source": [
    "#### 1. **<u>Logistic Regression Algorithm:</u>**"
   ]
  },
  {
   "cell_type": "code",
   "execution_count": 49,
   "id": "4f12d57b-65f6-4405-ae2b-f12b6eb04a32",
   "metadata": {},
   "outputs": [
    {
     "data": {
      "text/plain": [
       "0.764"
      ]
     },
     "execution_count": 49,
     "metadata": {},
     "output_type": "execute_result"
    }
   ],
   "source": [
    "# Using Logistic Regression Algorithm.\n",
    "from sklearn.linear_model import LogisticRegression\n",
    "lr = LogisticRegression(random_state=123)\n",
    "model = lr.fit(X_train, y_train)\n",
    "model\n",
    "\n",
    "y_pred = model.predict(X_test)\n",
    "y_pred\n",
    "\n",
    "model.score(X_test, y_test)"
   ]
  },
  {
   "cell_type": "code",
   "execution_count": 50,
   "id": "791a9c18-b62b-4744-91e8-1cffa853536a",
   "metadata": {},
   "outputs": [
    {
     "name": "stdout",
     "output_type": "stream",
     "text": [
      "\n",
      "Scores [0.77541667 0.75708333 0.76958333 0.77041667 0.77240517]\n",
      "\n",
      "Predict [0 0 0 ... 0 0 0]\n"
     ]
    }
   ],
   "source": [
    "# using Logistic Regression with K fold cross validation\n",
    "from sklearn.model_selection import cross_val_score, cross_val_predict\n",
    "lr_scores = cross_val_score(LogisticRegression(random_state=123), X_train, y_train, cv=5 )\n",
    "print('\\nScores', lr_scores)\n",
    "\n",
    "lr_predict = cross_val_predict(LogisticRegression(random_state=123), X_test, y_test)\n",
    "print('\\nPredict',lr_predict)"
   ]
  },
  {
   "cell_type": "code",
   "execution_count": 51,
   "id": "f6337846-7fb0-451e-b797-3ecb7c6ddc78",
   "metadata": {},
   "outputs": [
    {
     "name": "stdout",
     "output_type": "stream",
     "text": [
      "              precision    recall  f1-score   support\n",
      "\n",
      "           0       0.79      0.92      0.85      2291\n",
      "           1       0.45      0.20      0.28       709\n",
      "\n",
      "    accuracy                           0.75      3000\n",
      "   macro avg       0.62      0.56      0.57      3000\n",
      "weighted avg       0.71      0.75      0.72      3000\n",
      "\n"
     ]
    }
   ],
   "source": [
    "from sklearn.metrics import classification_report\n",
    "# printing classification report:\n",
    "print(classification_report(y_test, lr_predict))"
   ]
  },
  {
   "cell_type": "markdown",
   "id": "d984c7b6-ef95-4b7e-bfcc-955c411b5a46",
   "metadata": {},
   "source": [
    "#### 2. **<u>Random Forest Classifier Algorithm:</u>**"
   ]
  },
  {
   "cell_type": "code",
   "execution_count": 52,
   "id": "0afa94c1-6534-4519-9705-1001e93438be",
   "metadata": {},
   "outputs": [
    {
     "data": {
      "text/plain": [
       "0.9906666666666667"
      ]
     },
     "execution_count": 52,
     "metadata": {},
     "output_type": "execute_result"
    }
   ],
   "source": [
    "# Using Random Forest Algorithm\n",
    "from sklearn.ensemble import RandomForestClassifier\n",
    "rfc = RandomForestClassifier()\n",
    "rfc.fit(X_train, y_train)\n",
    "\n",
    "#predict the rfc model\n",
    "rfc_pred= rfc.predict(X_test)\n",
    "\n",
    "#checking the accuracy\n",
    "rfc.score(X_test, y_test)"
   ]
  },
  {
   "cell_type": "code",
   "execution_count": 53,
   "id": "f105bad8-fcf1-408d-b9b0-81742477c2e7",
   "metadata": {},
   "outputs": [
    {
     "name": "stdout",
     "output_type": "stream",
     "text": [
      "\n",
      "Scores [0.98458333 0.98833333 0.98166667 0.98708333 0.98791163]\n",
      "\n",
      "Predict [0 0 0 ... 1 0 0]\n"
     ]
    }
   ],
   "source": [
    "# using Randomforest with K fold cross validation\n",
    "from sklearn.model_selection import cross_val_score, cross_val_predict\n",
    "rfc_scores = cross_val_score(RandomForestClassifier(), X_train, y_train, cv=5 )\n",
    "print('\\nScores', rfc_scores)\n",
    "\n",
    "rfc_predict = cross_val_predict(RandomForestClassifier(), X_test, y_test)\n",
    "print('\\nPredict',rfc_predict)"
   ]
  },
  {
   "cell_type": "code",
   "execution_count": 54,
   "id": "1e8a08d6-043b-47f2-addb-e146a914882e",
   "metadata": {},
   "outputs": [
    {
     "name": "stdout",
     "output_type": "stream",
     "text": [
      "              precision    recall  f1-score   support\n",
      "\n",
      "           0       0.98      0.99      0.98      2291\n",
      "           1       0.97      0.92      0.94       709\n",
      "\n",
      "    accuracy                           0.97      3000\n",
      "   macro avg       0.97      0.95      0.96      3000\n",
      "weighted avg       0.97      0.97      0.97      3000\n",
      "\n"
     ]
    }
   ],
   "source": [
    "# printing classification report:\n",
    "print(classification_report(y_test, rfc_predict))"
   ]
  },
  {
   "cell_type": "markdown",
   "id": "50d4d51e-f536-4aba-b444-c3d213a3dca7",
   "metadata": {},
   "source": [
    "#### 3. **<u>Gradient Boosting Classifier Algorithm:</u>**"
   ]
  },
  {
   "cell_type": "code",
   "execution_count": 55,
   "id": "5c56f6e7-8e6b-4a05-9db5-1869ef2dd6fb",
   "metadata": {},
   "outputs": [
    {
     "data": {
      "text/plain": [
       "0.9706666666666667"
      ]
     },
     "execution_count": 55,
     "metadata": {},
     "output_type": "execute_result"
    }
   ],
   "source": [
    "# Using Gradient Boosting Algorithm\n",
    "from sklearn.ensemble import GradientBoostingClassifier\n",
    "gbc = GradientBoostingClassifier()\n",
    "gbc.fit(X_train, y_train)\n",
    "\n",
    "# predict the model\n",
    "gbc_pred = gbc.predict(X_test)\n",
    "\n",
    "#checking accuracy\n",
    "gbc.score(X_test, y_test)"
   ]
  },
  {
   "cell_type": "code",
   "execution_count": 56,
   "id": "881888a4-4328-4e6f-9300-78a6b3b1d8fa",
   "metadata": {},
   "outputs": [
    {
     "name": "stdout",
     "output_type": "stream",
     "text": [
      "\n",
      "Scores [0.96666667 0.97875    0.97083333 0.975      0.9720717 ]\n",
      "\n",
      "Predict [0 0 0 ... 1 0 0]\n"
     ]
    }
   ],
   "source": [
    "# using Gradient Boosting with K fold cross validation\n",
    "from sklearn.model_selection import cross_val_score, cross_val_predict\n",
    "gbc_scores = cross_val_score(GradientBoostingClassifier(), X_train, y_train, cv=5 )\n",
    "print('\\nScores', gbc_scores)\n",
    "\n",
    "gbc_predict = cross_val_predict(GradientBoostingClassifier(), X_test, y_test)\n",
    "print('\\nPredict',gbc_predict)"
   ]
  },
  {
   "cell_type": "code",
   "execution_count": 57,
   "id": "7ae1a750-8cce-4eca-9243-6a681902f874",
   "metadata": {},
   "outputs": [
    {
     "name": "stdout",
     "output_type": "stream",
     "text": [
      "              precision    recall  f1-score   support\n",
      "\n",
      "           0       0.98      0.98      0.98      2291\n",
      "           1       0.94      0.92      0.93       709\n",
      "\n",
      "    accuracy                           0.97      3000\n",
      "   macro avg       0.96      0.95      0.96      3000\n",
      "weighted avg       0.97      0.97      0.97      3000\n",
      "\n"
     ]
    }
   ],
   "source": [
    "# printing classification report:\n",
    "print(classification_report(y_test, gbc_predict))"
   ]
  },
  {
   "cell_type": "markdown",
   "id": "da699d57-8476-4c16-bbd9-539d370bef18",
   "metadata": {},
   "source": [
    "#### 4. **<u>Support Vector Machine Algorithm:</u>**"
   ]
  },
  {
   "cell_type": "code",
   "execution_count": 58,
   "id": "22c07561-d7b6-40e9-9cbb-7dd6fa7803a2",
   "metadata": {},
   "outputs": [
    {
     "name": "stdout",
     "output_type": "stream",
     "text": [
      "\n",
      "Scores [0.91958333 0.93333333 0.93208333 0.93125    0.93538975]\n",
      "\n",
      "Predict [0 0 0 ... 0 0 0]\n"
     ]
    }
   ],
   "source": [
    "# Using SVM with K fold cross validation\n",
    "from sklearn.svm import SVC\n",
    "from sklearn.model_selection import cross_val_score, cross_val_predict\n",
    "svm_scores = cross_val_score(SVC(), X_train, y_train, cv=5 )\n",
    "print('\\nScores', svm_scores)\n",
    "\n",
    "svm_predict = cross_val_predict(SVC(), X_test, y_test)\n",
    "print('\\nPredict',svm_predict)"
   ]
  },
  {
   "cell_type": "code",
   "execution_count": 59,
   "id": "062b26df-eebc-40b5-9910-ae35818d9cfc",
   "metadata": {},
   "outputs": [
    {
     "name": "stdout",
     "output_type": "stream",
     "text": [
      "              precision    recall  f1-score   support\n",
      "\n",
      "           0       0.93      0.91      0.92      2291\n",
      "           1       0.73      0.79      0.76       709\n",
      "\n",
      "    accuracy                           0.88      3000\n",
      "   macro avg       0.83      0.85      0.84      3000\n",
      "weighted avg       0.89      0.88      0.88      3000\n",
      "\n"
     ]
    }
   ],
   "source": [
    "# printing classification report:\n",
    "print(classification_report(y_test, svm_predict))"
   ]
  },
  {
   "cell_type": "markdown",
   "id": "41c5f0ef-e056-4818-8ddb-88fb5c73f295",
   "metadata": {},
   "source": [
    "#### 5. **<u>Decision Tree Classifier Algorithm:</u>**"
   ]
  },
  {
   "cell_type": "code",
   "execution_count": 60,
   "id": "c78ff656-299b-4bf9-8093-1f1c7d43c39a",
   "metadata": {},
   "outputs": [
    {
     "name": "stdout",
     "output_type": "stream",
     "text": [
      "\n",
      "Scores [0.97041667 0.97875    0.97166667 0.97416667 0.97957482]\n",
      "\n",
      "Predict [0 0 0 ... 1 0 0]\n"
     ]
    }
   ],
   "source": [
    "# Using Decision Tree Classifier with K fold cross validation\n",
    "from sklearn.tree import DecisionTreeClassifier\n",
    "from sklearn.model_selection import cross_val_score, cross_val_predict\n",
    "dtc_scores = cross_val_score(DecisionTreeClassifier(max_depth=10), X_train, y_train, cv=5 )\n",
    "print('\\nScores', dtc_scores)\n",
    "\n",
    "dtc_predict = cross_val_predict(DecisionTreeClassifier(max_depth=10), X_test, y_test)\n",
    "print('\\nPredict',dtc_predict)"
   ]
  },
  {
   "cell_type": "code",
   "execution_count": 61,
   "id": "a19e9f4a-f110-4789-b1c3-27413b6892df",
   "metadata": {},
   "outputs": [
    {
     "name": "stdout",
     "output_type": "stream",
     "text": [
      "              precision    recall  f1-score   support\n",
      "\n",
      "           0       0.98      0.97      0.98      2291\n",
      "           1       0.92      0.92      0.92       709\n",
      "\n",
      "    accuracy                           0.96      3000\n",
      "   macro avg       0.95      0.95      0.95      3000\n",
      "weighted avg       0.96      0.96      0.96      3000\n",
      "\n"
     ]
    }
   ],
   "source": [
    "# printing classification report:\n",
    "print(classification_report(y_test, dtc_predict))"
   ]
  },
  {
   "cell_type": "markdown",
   "id": "f599b2de-3522-4f63-9e63-da32dd0bea8a",
   "metadata": {},
   "source": [
    "### 6) Model Evaluation"
   ]
  },
  {
   "cell_type": "code",
   "execution_count": 62,
   "id": "8fb931b6-d3ef-4c59-bd69-2068bf30c332",
   "metadata": {},
   "outputs": [
    {
     "name": "stdout",
     "output_type": "stream",
     "text": [
      "0.7689810337640683\n",
      "0.985915659302487\n",
      "0.972664339308045\n",
      "0.9303279491454773\n",
      "0.9749149645685702\n"
     ]
    },
    {
     "data": {
      "text/plain": [
       "(None, None)"
      ]
     },
     "execution_count": 62,
     "metadata": {},
     "output_type": "execute_result"
    }
   ],
   "source": [
    "# Calcualting the Averages of all the model i.e. Logistic Regression, Random Forest, Gradient Boosting, SVM, Decision Tree.\n",
    "\n",
    "lr_score_avg = np.mean(lr_scores)\n",
    "rfc_score_avg = np.mean(rfc_scores)\n",
    "gbc_score_avg = np.mean(gbc_scores)\n",
    "svm_score_avg = np.mean(svm_scores)\n",
    "dtc_score_avg = np.mean(dtc_scores)\n",
    "\n",
    "print(lr_score_avg), print(rfc_score_avg), print(gbc_score_avg)\n",
    "print(svm_score_avg), print(dtc_score_avg)\n"
   ]
  },
  {
   "cell_type": "code",
   "execution_count": 63,
   "id": "b01a5d9c-e5b2-4039-bdca-dec475c11aca",
   "metadata": {},
   "outputs": [
    {
     "name": "stdout",
     "output_type": "stream",
     "text": [
      "                          Model     Score\n",
      "1      Random Forest Classifier  0.985916\n",
      "4                 Decision Tree  0.974915\n",
      "2  Gradient Boosting Classifier  0.972664\n",
      "3        Support Vector Machine  0.930328\n",
      "0           Logistic Regression  0.768981\n"
     ]
    },
    {
     "data": {
      "image/png": "[encoded data removed]",
      "text/plain": [
       "<Figure size 720x360 with 1 Axes>"
      ]
     },
     "metadata": {},
     "output_type": "display_data"
    }
   ],
   "source": [
    "model = pd.DataFrame({'Model':['Logistic Regression', 'Random Forest Classifier', 'Gradient Boosting Classifier', 'Support Vector Machine', 'Decision Tree'],\n",
    "                     'Score':[lr_score_avg, rfc_score_avg, gbc_score_avg, svm_score_avg, dtc_score_avg]})\n",
    "\n",
    "models = model.sort_values(by='Score', ascending=False)\n",
    "print(models)\n",
    "\n",
    "# visualizing the Model vs Score:\n",
    "plt.figure(figsize=(10,5))\n",
    "plt.title('Model vs Average Score', fontsize=20)\n",
    "sns.barplot(x='Model', y='Score', data=models)    \n",
    "plt.xticks(rotation=30)\n",
    "plt.xlabel('Models', fontsize=15)\n",
    "plt.ylabel('Average Score', fontsize=15)\n",
    "plt.show()"
   ]
  },
  {
   "cell_type": "markdown",
   "id": "f0f87373-1cc5-4bf7-aec8-4628243d5aed",
   "metadata": {},
   "source": [
    "#### Observation:\n",
    "* From the above result we can see that **Random Forest Classifier** scored the **highest predicting score i.e., 98.6%**"
   ]
  },
  {
   "cell_type": "markdown",
   "id": "df13ceed-b6de-4aca-8506-591b7fd15acf",
   "metadata": {},
   "source": [
    "### 7) Retention Strategies:"
   ]
  },
  {
   "cell_type": "markdown",
   "id": "b41c3e26-c8e8-43f5-8f2d-0b81ec0398a4",
   "metadata": {},
   "source": [
    "#### After performing all the above analysis we can conclude the following retention strategies for our target employees:\n",
    "* 1. Since majority percentage of employees turnover was from 'HR' deptt, therefore we need to bring in more employee friendly schemes particularly in HR deptt to reduce the employees turnover.\n",
    "* 2. It was also observed that almost 30% of the total employees who left was because of the low salary, therefore we need to increase the salaries of the employees as per current industry standards and can also implement incentive and rewards scheme for the employees.\n",
    "* 3. It was also observed in our analysis that employees who has worked on too many projects or too less projects tends to leave the company whereas employees who have worked on avg number of projects tends to stay, therefore we need to balance out the of project distribution among the employees, we need to check that some employees shouldn't get burdened with too many projects and also it should not be the case that some employees are having very less project and their time and skills are getting wasted.\n",
    "* 4. It was also observed that senior employeees who have worked for more than 7 years in the company not to leave the company, whereas junior or mid level employees tends to leave the company, therefore we need to create policies and schemes (like for senior level employees) which makes junior and mid level employees of the company to remain stick to the company.\n",
    "* 5. Also it was observed that those employees tends to leave who got either very low evaluation score or very high evaluation score from the company, we need to bring in more clarity and make evaluation measures more employee friendly so that employees don't consider the evaluation too seriously and always strive to emprove their scores.\n",
    "* 6. I was also observed that employees leave when they are overworked or underworked, therefore we need to systematically plan and distribute the work among the employees to properly handle their work load management.\n",
    "* 7. Also it was observed that out of total of '14999' employees, only '319' employees got promotion in the last 5 years, therefore we need to reward more employees more frequently in order to retain the target employees."
   ]
  },
  {
   "cell_type": "markdown",
   "id": "bb1d1f44-c5e3-449c-8bae-e8b20328bea5",
   "metadata": {},
   "source": [
    "### Thank you!"
   ]
  },
  {
   "cell_type": "code",
   "execution_count": null,
   "id": "2deffa2b-3004-484f-a18c-c761f904ec35",
   "metadata": {},
   "outputs": [],
   "source": []
  }
 ],
 "metadata": {
  "kernelspec": {
   "display_name": "Python 3 [3.10]",
   "language": "python",
   "name": "python3"
  },
  "language_info": {
   "codemirror_mode": {
    "name": "ipython",
    "version": 3
   },
   "file_extension": ".py",
   "mimetype": "text/x-python",
   "name": "python",
   "nbconvert_exporter": "python",
   "pygments_lexer": "ipython3",
   "version": "3.10.2"
  }
 },
 "nbformat": 4,
 "nbformat_minor": 5
}
